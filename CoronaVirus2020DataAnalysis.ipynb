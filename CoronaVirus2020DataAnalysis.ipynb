{
 "cells": [
  {
   "cell_type": "markdown",
   "id": "4c1c320f-bae2-45a5-b0bb-0385bd4a50ce",
   "metadata": {},
   "source": [
    "# Analysis of CoronaVirus Data\n",
    "\n",
    "Starting off, lets import pandas.\n",
    "\n",
    "Then I will upload the file, immediately changing NaN values to 0, changing the data type to integer, and sort by 'Total Cases' from the highest.\n",
    "\n",
    "After than, I'll turn the df into a dictionary:"
   ]
  },
  {
   "cell_type": "code",
   "execution_count": 15,
   "id": "dc726a31-d3d8-4c5a-aff0-a87bb76e675a",
   "metadata": {},
   "outputs": [],
   "source": [
    "import pandas as pd\n",
    "\n",
    "\n",
    "df = pd.read_csv('C:/Users/phpunsal/Documents/Data_Analytics/Corona_Virus_Data/data/corona.csv').fillna(0).astype(dtype=int, errors='ignore').sort_values(by='Total Cases', ascending=False)\n",
    "\n",
    "\n",
    "latest = df.to_dict('list')"
   ]
  },
  {
   "cell_type": "markdown",
   "id": "ad810f8e-85c9-4952-8090-22ce881f7c62",
   "metadata": {},
   "source": [
    "`latest` is now a dictionary, with each key as a column heading and each value is a list containing the values in the given column from each row:\n"
   ]
  },
  {
   "cell_type": "code",
   "execution_count": 16,
   "id": "8d194ee1-dc70-4ed2-bfc2-0596c9fa351d",
   "metadata": {},
   "outputs": [
    {
     "data": {
      "text/plain": [
       "{'Country': ['China',\n",
       "  'Diamond Princess',\n",
       "  'Singapore',\n",
       "  'Japan',\n",
       "  'Hong Kong',\n",
       "  'S. Korea',\n",
       "  'Thailand',\n",
       "  'USA',\n",
       "  'Taiwan',\n",
       "  'Malaysia',\n",
       "  'Vietnam',\n",
       "  'Germany',\n",
       "  'Australia',\n",
       "  'France',\n",
       "  'Macao',\n",
       "  'U.K.',\n",
       "  'U.A.E.',\n",
       "  'Canada',\n",
       "  'Philippines',\n",
       "  'Italy',\n",
       "  'India',\n",
       "  'Russia',\n",
       "  'Spain',\n",
       "  'Nepal',\n",
       "  'Belgium',\n",
       "  'Sri Lanka',\n",
       "  'Finland',\n",
       "  'Egypt',\n",
       "  'Cambodia',\n",
       "  'Sweden'],\n",
       " 'Total Cases': [74187,\n",
       "  621,\n",
       "  81,\n",
       "  80,\n",
       "  63,\n",
       "  51,\n",
       "  35,\n",
       "  29,\n",
       "  23,\n",
       "  22,\n",
       "  16,\n",
       "  16,\n",
       "  15,\n",
       "  12,\n",
       "  10,\n",
       "  9,\n",
       "  9,\n",
       "  8,\n",
       "  3,\n",
       "  3,\n",
       "  3,\n",
       "  2,\n",
       "  2,\n",
       "  1,\n",
       "  1,\n",
       "  1,\n",
       "  1,\n",
       "  1,\n",
       "  1,\n",
       "  1],\n",
       " 'New Cases': [1751,\n",
       "  79,\n",
       "  0,\n",
       "  6,\n",
       "  1,\n",
       "  20,\n",
       "  0,\n",
       "  0,\n",
       "  1,\n",
       "  0,\n",
       "  0,\n",
       "  0,\n",
       "  0,\n",
       "  0,\n",
       "  0,\n",
       "  0,\n",
       "  0,\n",
       "  0,\n",
       "  0,\n",
       "  0,\n",
       "  0,\n",
       "  0,\n",
       "  0,\n",
       "  0,\n",
       "  0,\n",
       "  0,\n",
       "  0,\n",
       "  0,\n",
       "  0,\n",
       "  0],\n",
       " 'Total Deaths': [2006,\n",
       "  0,\n",
       "  0,\n",
       "  1,\n",
       "  2,\n",
       "  0,\n",
       "  0,\n",
       "  0,\n",
       "  1,\n",
       "  0,\n",
       "  0,\n",
       "  0,\n",
       "  0,\n",
       "  1,\n",
       "  0,\n",
       "  0,\n",
       "  0,\n",
       "  0,\n",
       "  1,\n",
       "  0,\n",
       "  0,\n",
       "  0,\n",
       "  0,\n",
       "  0,\n",
       "  0,\n",
       "  0,\n",
       "  0,\n",
       "  0,\n",
       "  0,\n",
       "  0],\n",
       " 'New Deaths': [138,\n",
       "  0,\n",
       "  0,\n",
       "  0,\n",
       "  1,\n",
       "  0,\n",
       "  0,\n",
       "  0,\n",
       "  0,\n",
       "  0,\n",
       "  0,\n",
       "  0,\n",
       "  0,\n",
       "  0,\n",
       "  0,\n",
       "  0,\n",
       "  0,\n",
       "  0,\n",
       "  0,\n",
       "  0,\n",
       "  0,\n",
       "  0,\n",
       "  0,\n",
       "  0,\n",
       "  0,\n",
       "  0,\n",
       "  0,\n",
       "  0,\n",
       "  0,\n",
       "  0],\n",
       " 'Recovered': [14796,\n",
       "  17,\n",
       "  29,\n",
       "  20,\n",
       "  5,\n",
       "  16,\n",
       "  17,\n",
       "  3,\n",
       "  2,\n",
       "  15,\n",
       "  14,\n",
       "  9,\n",
       "  10,\n",
       "  7,\n",
       "  5,\n",
       "  8,\n",
       "  3,\n",
       "  1,\n",
       "  2,\n",
       "  0,\n",
       "  3,\n",
       "  2,\n",
       "  2,\n",
       "  1,\n",
       "  1,\n",
       "  1,\n",
       "  1,\n",
       "  0,\n",
       "  1,\n",
       "  0],\n",
       " 'Serious': [12017,\n",
       "  20,\n",
       "  4,\n",
       "  4,\n",
       "  6,\n",
       "  0,\n",
       "  2,\n",
       "  0,\n",
       "  0,\n",
       "  0,\n",
       "  0,\n",
       "  0,\n",
       "  0,\n",
       "  0,\n",
       "  0,\n",
       "  0,\n",
       "  1,\n",
       "  0,\n",
       "  0,\n",
       "  2,\n",
       "  0,\n",
       "  0,\n",
       "  0,\n",
       "  0,\n",
       "  0,\n",
       "  0,\n",
       "  0,\n",
       "  0,\n",
       "  0,\n",
       "  0]}"
      ]
     },
     "execution_count": 16,
     "metadata": {},
     "output_type": "execute_result"
    }
   ],
   "source": [
    "latest"
   ]
  },
  {
   "cell_type": "markdown",
   "id": "b79f5a7f-ae2a-4234-a83c-3c68e040c10c",
   "metadata": {},
   "source": [
    "This shows the dictionary keys:"
   ]
  },
  {
   "cell_type": "code",
   "execution_count": 17,
   "id": "14ba6980-a92e-4445-b846-2de8fb06d90d",
   "metadata": {},
   "outputs": [
    {
     "data": {
      "text/plain": [
       "dict_keys(['Country', 'Total Cases', 'New Cases', 'Total Deaths', 'New Deaths', 'Recovered', 'Serious'])"
      ]
     },
     "execution_count": 17,
     "metadata": {},
     "output_type": "execute_result"
    }
   ],
   "source": [
    "latest.keys()"
   ]
  },
  {
   "cell_type": "markdown",
   "id": "b374c54b-9118-4f55-be87-0fe3f390f13b",
   "metadata": {},
   "source": [
    "This accesses the column and cell values, in this case the `Country` column:"
   ]
  },
  {
   "cell_type": "code",
   "execution_count": 18,
   "id": "289770b0-09c0-4d20-8a91-cc3c553e4a9b",
   "metadata": {},
   "outputs": [
    {
     "name": "stdout",
     "output_type": "stream",
     "text": [
      "['China', 'Diamond Princess', 'Singapore', 'Japan', 'Hong Kong', 'S. Korea', 'Thailand', 'USA', 'Taiwan', 'Malaysia', 'Vietnam', 'Germany', 'Australia', 'France', 'Macao', 'U.K.', 'U.A.E.', 'Canada', 'Philippines', 'Italy', 'India', 'Russia', 'Spain', 'Nepal', 'Belgium', 'Sri Lanka', 'Finland', 'Egypt', 'Cambodia', 'Sweden']\n"
     ]
    }
   ],
   "source": [
    "print(latest['Country'])"
   ]
  },
  {
   "cell_type": "markdown",
   "id": "f3641244-28f8-414a-b2f5-b6d2a3bb8b60",
   "metadata": {},
   "source": [
    "This shows the elements at a given position in the same row:"
   ]
  },
  {
   "cell_type": "code",
   "execution_count": 19,
   "id": "79ec8e3f-3bbd-438d-b540-26c8a2578a8e",
   "metadata": {},
   "outputs": [
    {
     "name": "stdout",
     "output_type": "stream",
     "text": [
      "China\n",
      "74187\n",
      "2006\n",
      "14796\n"
     ]
    }
   ],
   "source": [
    "print(latest['Country'][0])\n",
    "print(latest['Total Cases'][0])\n",
    "print(latest['Total Deaths'][0])\n",
    "print(latest['Recovered'][0])"
   ]
  },
  {
   "cell_type": "code",
   "execution_count": 20,
   "id": "34d3954e-e06e-4cb1-adc8-5564c780954b",
   "metadata": {},
   "outputs": [
    {
     "name": "stdout",
     "output_type": "stream",
     "text": [
      "Japan\n",
      "80\n",
      "1\n",
      "20\n"
     ]
    }
   ],
   "source": [
    "print(latest['Country'][3])\n",
    "print(latest['Total Cases'][3])\n",
    "print(latest['Total Deaths'][3])\n",
    "print(latest['Recovered'][3])"
   ]
  },
  {
   "cell_type": "markdown",
   "id": "9e42402d-2042-4385-8ddf-b3c7b55486f8",
   "metadata": {},
   "source": [
    "Here's a function to return the worldwide number of reported cases from the dictionary:"
   ]
  },
  {
   "cell_type": "code",
   "execution_count": 21,
   "id": "b35b22c1-7bda-4d54-a792-d141cba87b93",
   "metadata": {},
   "outputs": [],
   "source": [
    "def case_count(data):  \n",
    "    total = sum(data['Total Cases'])\n",
    "    return total"
   ]
  },
  {
   "cell_type": "code",
   "execution_count": 22,
   "id": "63245e9f-6b6b-4cd0-8b72-1287bac80d3d",
   "metadata": {},
   "outputs": [
    {
     "data": {
      "text/plain": [
       "75307"
      ]
     },
     "execution_count": 22,
     "metadata": {},
     "output_type": "execute_result"
    }
   ],
   "source": [
    "case_count(latest)"
   ]
  },
  {
   "cell_type": "markdown",
   "id": "2d63a50b-74b8-407a-8983-cd63cee900b7",
   "metadata": {},
   "source": [
    "Another function can be created to return the number of countries that have reported cases:"
   ]
  },
  {
   "cell_type": "code",
   "execution_count": 23,
   "id": "3eeebcf0-0e3e-43b0-b9dd-9b0d95f04fca",
   "metadata": {},
   "outputs": [],
   "source": [
    "def country_count(data):\n",
    "    countries_count = len(data['Country'])\n",
    "    return countries_count"
   ]
  },
  {
   "cell_type": "code",
   "execution_count": 24,
   "id": "7ece1969-e93e-439e-a5de-b216b4e22a0d",
   "metadata": {},
   "outputs": [
    {
     "data": {
      "text/plain": [
       "30"
      ]
     },
     "execution_count": 24,
     "metadata": {},
     "output_type": "execute_result"
    }
   ],
   "source": [
    "country_count(latest)"
   ]
  },
  {
   "cell_type": "markdown",
   "id": "80e2703c-822a-4e06-b169-41d4eef58ab1",
   "metadata": {},
   "source": [
    "Here, another function can be created to return the average number of cases over all listed countries, using the previous functions:"
   ]
  },
  {
   "cell_type": "code",
   "execution_count": 25,
   "id": "944664fb-1f88-425c-ad40-75963100f401",
   "metadata": {},
   "outputs": [],
   "source": [
    "def average_cases(data):\n",
    "    average = case_count(data)/country_count(data)\n",
    "    return average"
   ]
  },
  {
   "cell_type": "code",
   "execution_count": 26,
   "id": "9cf8c009-cad5-4191-8731-d0fd01e1df77",
   "metadata": {},
   "outputs": [
    {
     "data": {
      "text/plain": [
       "2510.233333333333"
      ]
     },
     "execution_count": 26,
     "metadata": {},
     "output_type": "execute_result"
    }
   ],
   "source": [
    "average_cases(latest)"
   ]
  },
  {
   "cell_type": "markdown",
   "id": "3d5fc165-18c9-4d73-8fad-800a57f1898a",
   "metadata": {},
   "source": [
    "Here, a further function can be created to return the number of countries where the 'Total cases' equals 1. This function involves a 'for' loop to iterate through the values, and an 'if' condition within the loop to check for cases that equal 1. There is then a counter to track the number of countries that match the desired criteria:"
   ]
  },
  {
   "cell_type": "code",
   "execution_count": 27,
   "id": "169d721f-d60c-49a3-8965-dbd9b7b7d35c",
   "metadata": {},
   "outputs": [],
   "source": [
    "def single_case_country_count(data):\n",
    "    count = 0\n",
    "    \n",
    "    for cases_count in data['Total Cases']:\n",
    "        if cases_count == 1:\n",
    "            count = count + 1\n",
    "            \n",
    "    return (count)"
   ]
  },
  {
   "cell_type": "code",
   "execution_count": 28,
   "id": "183d4a83-cb40-47e8-bf9e-c2378459c92b",
   "metadata": {},
   "outputs": [
    {
     "data": {
      "text/plain": [
       "7"
      ]
     },
     "execution_count": 28,
     "metadata": {},
     "output_type": "execute_result"
    }
   ],
   "source": [
    "single_case_country_count(latest)"
   ]
  },
  {
   "cell_type": "markdown",
   "id": "1f81e953-a4b3-462b-b710-d7f6804ae71b",
   "metadata": {},
   "source": [
    "Next, a function is created to return a list of the countries where the number of cases is equal to 1.\n",
    "\n",
    "This could help identify those nations where an outbreak may just be starting. In that case, a local or national lockdown may be recommended:"
   ]
  },
  {
   "cell_type": "code",
   "execution_count": 29,
   "id": "afc7a830-28f0-4630-9a03-7ffcda76dbdc",
   "metadata": {},
   "outputs": [],
   "source": [
    "def single_case_countries(data):\n",
    "    countries = []\n",
    "    for country, cases in zip(data[\"Country\"], data[\"Total Cases\"]):\n",
    "        if cases == 1:\n",
    "            countries.append(country)\n",
    "    return countries"
   ]
  },
  {
   "cell_type": "code",
   "execution_count": 30,
   "id": "425b9687-39b9-49cf-bee8-162861b578ad",
   "metadata": {},
   "outputs": [
    {
     "data": {
      "text/plain": [
       "['Nepal', 'Belgium', 'Sri Lanka', 'Finland', 'Egypt', 'Cambodia', 'Sweden']"
      ]
     },
     "execution_count": 30,
     "metadata": {},
     "output_type": "execute_result"
    }
   ],
   "source": [
    "single_case_countries(latest)"
   ]
  },
  {
   "cell_type": "markdown",
   "id": "3158277a-5f1a-43bd-bc21-e01e35f03765",
   "metadata": {},
   "source": [
    "The next function returns a list of countries in which there are still active cases (where Total cases minus Total Deaths exceeds Recovered).\n",
    "\n",
    "This can help identify those countries that may need categorising as High Risk:"
   ]
  },
  {
   "cell_type": "code",
   "execution_count": 31,
   "id": "e1a47b92-fc76-4e76-82e6-3718f2dcb1b6",
   "metadata": {},
   "outputs": [],
   "source": [
    "def active_countries(data):\n",
    "    countries = []\n",
    "    for i, country in enumerate(data['Country']):\n",
    "        if data['Total Cases'][i] - data['Total Deaths'][i] > data['Recovered'][i]:\n",
    "            countries.append(country)\n",
    "    return countries"
   ]
  },
  {
   "cell_type": "code",
   "execution_count": 32,
   "id": "2acc6544-77c3-49a8-8540-37432c7fe50b",
   "metadata": {},
   "outputs": [
    {
     "data": {
      "text/plain": [
       "['China',\n",
       " 'Diamond Princess',\n",
       " 'Singapore',\n",
       " 'Japan',\n",
       " 'Hong Kong',\n",
       " 'S. Korea',\n",
       " 'Thailand',\n",
       " 'USA',\n",
       " 'Taiwan',\n",
       " 'Malaysia',\n",
       " 'Vietnam',\n",
       " 'Germany',\n",
       " 'Australia',\n",
       " 'France',\n",
       " 'Macao',\n",
       " 'U.K.',\n",
       " 'U.A.E.',\n",
       " 'Canada',\n",
       " 'Italy',\n",
       " 'Egypt',\n",
       " 'Sweden']"
      ]
     },
     "execution_count": 32,
     "metadata": {},
     "output_type": "execute_result"
    }
   ],
   "source": [
    "active_countries(latest)"
   ]
  },
  {
   "cell_type": "markdown",
   "id": "f02cfd6d-3da7-48b1-b9a5-8cd941268c40",
   "metadata": {},
   "source": [
    "The next function returns a list of countries where there are no longer any active cases (where Total Cases minus Total Deaths equals Recovered).\n",
    "\n",
    "This can help identify those countries where the virus appears to have disappeared from the population:"
   ]
  },
  {
   "cell_type": "code",
   "execution_count": 33,
   "id": "c70b989f-40e5-4de8-b63e-b075973f7042",
   "metadata": {},
   "outputs": [],
   "source": [
    "def cleared_countries(data):\n",
    "    countries = []\n",
    "    for i, country in enumerate(data['Country']):\n",
    "        if data['Total Cases'][i] - data['Total Deaths'][i] == data['Recovered'][i]:\n",
    "            countries.append(country)\n",
    "    return countries"
   ]
  },
  {
   "cell_type": "code",
   "execution_count": 34,
   "id": "9d80c126-580a-4931-9488-e32ce8783de8",
   "metadata": {},
   "outputs": [
    {
     "data": {
      "text/plain": [
       "['Philippines',\n",
       " 'India',\n",
       " 'Russia',\n",
       " 'Spain',\n",
       " 'Nepal',\n",
       " 'Belgium',\n",
       " 'Sri Lanka',\n",
       " 'Finland',\n",
       " 'Cambodia']"
      ]
     },
     "execution_count": 34,
     "metadata": {},
     "output_type": "execute_result"
    }
   ],
   "source": [
    "cleared_countries(latest)"
   ]
  },
  {
   "cell_type": "markdown",
   "id": "b7d54dda-8cc9-4f44-872e-75b23f9064bf",
   "metadata": {},
   "source": [
    "Next, lets upload some more Covid data, and specifically create a df for only 1st July 2020, from that data:"
   ]
  },
  {
   "cell_type": "code",
   "execution_count": 35,
   "id": "a83d89c4-8aaa-495c-a1ac-353aead37879",
   "metadata": {},
   "outputs": [
    {
     "data": {
      "text/html": [
       "<div>\n",
       "<style scoped>\n",
       "    .dataframe tbody tr th:only-of-type {\n",
       "        vertical-align: middle;\n",
       "    }\n",
       "\n",
       "    .dataframe tbody tr th {\n",
       "        vertical-align: top;\n",
       "    }\n",
       "\n",
       "    .dataframe thead th {\n",
       "        text-align: right;\n",
       "    }\n",
       "</style>\n",
       "<table border=\"1\" class=\"dataframe\">\n",
       "  <thead>\n",
       "    <tr style=\"text-align: right;\">\n",
       "      <th></th>\n",
       "      <th>iso_code</th>\n",
       "      <th>continent</th>\n",
       "      <th>location</th>\n",
       "      <th>date</th>\n",
       "      <th>total_cases</th>\n",
       "      <th>new_cases</th>\n",
       "      <th>total_deaths</th>\n",
       "      <th>new_deaths</th>\n",
       "      <th>total_cases_per_million</th>\n",
       "      <th>new_cases_per_million</th>\n",
       "      <th>...</th>\n",
       "      <th>aged_70_older</th>\n",
       "      <th>gdp_per_capita</th>\n",
       "      <th>extreme_poverty</th>\n",
       "      <th>cvd_death_rate</th>\n",
       "      <th>diabetes_prevalence</th>\n",
       "      <th>female_smokers</th>\n",
       "      <th>male_smokers</th>\n",
       "      <th>handwashing_facilities</th>\n",
       "      <th>hospital_beds_per_thousand</th>\n",
       "      <th>life_expectancy</th>\n",
       "    </tr>\n",
       "  </thead>\n",
       "  <tbody>\n",
       "    <tr>\n",
       "      <th>173</th>\n",
       "      <td>AFG</td>\n",
       "      <td>Asia</td>\n",
       "      <td>Afghanistan</td>\n",
       "      <td>2020-07-01</td>\n",
       "      <td>31517.0</td>\n",
       "      <td>279.0</td>\n",
       "      <td>746.0</td>\n",
       "      <td>13.0</td>\n",
       "      <td>809.616</td>\n",
       "      <td>7.167</td>\n",
       "      <td>...</td>\n",
       "      <td>1.337</td>\n",
       "      <td>1803.987</td>\n",
       "      <td>NaN</td>\n",
       "      <td>597.029</td>\n",
       "      <td>9.59</td>\n",
       "      <td>NaN</td>\n",
       "      <td>NaN</td>\n",
       "      <td>37.746</td>\n",
       "      <td>0.50</td>\n",
       "      <td>64.83</td>\n",
       "    </tr>\n",
       "    <tr>\n",
       "      <th>300</th>\n",
       "      <td>ALB</td>\n",
       "      <td>Europe</td>\n",
       "      <td>Albania</td>\n",
       "      <td>2020-07-01</td>\n",
       "      <td>2535.0</td>\n",
       "      <td>69.0</td>\n",
       "      <td>62.0</td>\n",
       "      <td>4.0</td>\n",
       "      <td>880.881</td>\n",
       "      <td>23.977</td>\n",
       "      <td>...</td>\n",
       "      <td>8.643</td>\n",
       "      <td>11803.431</td>\n",
       "      <td>1.1</td>\n",
       "      <td>304.195</td>\n",
       "      <td>10.08</td>\n",
       "      <td>7.1</td>\n",
       "      <td>51.2</td>\n",
       "      <td>NaN</td>\n",
       "      <td>2.89</td>\n",
       "      <td>78.57</td>\n",
       "    </tr>\n",
       "    <tr>\n",
       "      <th>491</th>\n",
       "      <td>DZA</td>\n",
       "      <td>Africa</td>\n",
       "      <td>Algeria</td>\n",
       "      <td>2020-07-01</td>\n",
       "      <td>13907.0</td>\n",
       "      <td>336.0</td>\n",
       "      <td>912.0</td>\n",
       "      <td>7.0</td>\n",
       "      <td>317.142</td>\n",
       "      <td>7.662</td>\n",
       "      <td>...</td>\n",
       "      <td>3.857</td>\n",
       "      <td>13913.839</td>\n",
       "      <td>0.5</td>\n",
       "      <td>278.364</td>\n",
       "      <td>6.73</td>\n",
       "      <td>0.7</td>\n",
       "      <td>30.4</td>\n",
       "      <td>83.741</td>\n",
       "      <td>1.90</td>\n",
       "      <td>76.88</td>\n",
       "    </tr>\n",
       "    <tr>\n",
       "      <th>613</th>\n",
       "      <td>AND</td>\n",
       "      <td>Europe</td>\n",
       "      <td>Andorra</td>\n",
       "      <td>2020-07-01</td>\n",
       "      <td>855.0</td>\n",
       "      <td>0.0</td>\n",
       "      <td>52.0</td>\n",
       "      <td>0.0</td>\n",
       "      <td>11065.812</td>\n",
       "      <td>0.000</td>\n",
       "      <td>...</td>\n",
       "      <td>NaN</td>\n",
       "      <td>NaN</td>\n",
       "      <td>NaN</td>\n",
       "      <td>109.135</td>\n",
       "      <td>7.97</td>\n",
       "      <td>29.0</td>\n",
       "      <td>37.8</td>\n",
       "      <td>NaN</td>\n",
       "      <td>NaN</td>\n",
       "      <td>83.73</td>\n",
       "    </tr>\n",
       "    <tr>\n",
       "      <th>727</th>\n",
       "      <td>AGO</td>\n",
       "      <td>Africa</td>\n",
       "      <td>Angola</td>\n",
       "      <td>2020-07-01</td>\n",
       "      <td>284.0</td>\n",
       "      <td>8.0</td>\n",
       "      <td>13.0</td>\n",
       "      <td>2.0</td>\n",
       "      <td>8.641</td>\n",
       "      <td>0.243</td>\n",
       "      <td>...</td>\n",
       "      <td>1.362</td>\n",
       "      <td>5819.495</td>\n",
       "      <td>NaN</td>\n",
       "      <td>276.045</td>\n",
       "      <td>3.94</td>\n",
       "      <td>NaN</td>\n",
       "      <td>NaN</td>\n",
       "      <td>26.664</td>\n",
       "      <td>NaN</td>\n",
       "      <td>61.15</td>\n",
       "    </tr>\n",
       "  </tbody>\n",
       "</table>\n",
       "<p>5 rows × 34 columns</p>\n",
       "</div>"
      ],
      "text/plain": [
       "    iso_code continent     location       date  total_cases  new_cases  \\\n",
       "173      AFG      Asia  Afghanistan 2020-07-01      31517.0      279.0   \n",
       "300      ALB    Europe      Albania 2020-07-01       2535.0       69.0   \n",
       "491      DZA    Africa      Algeria 2020-07-01      13907.0      336.0   \n",
       "613      AND    Europe      Andorra 2020-07-01        855.0        0.0   \n",
       "727      AGO    Africa       Angola 2020-07-01        284.0        8.0   \n",
       "\n",
       "     total_deaths  new_deaths  total_cases_per_million  new_cases_per_million  \\\n",
       "173         746.0        13.0                  809.616                  7.167   \n",
       "300          62.0         4.0                  880.881                 23.977   \n",
       "491         912.0         7.0                  317.142                  7.662   \n",
       "613          52.0         0.0                11065.812                  0.000   \n",
       "727          13.0         2.0                    8.641                  0.243   \n",
       "\n",
       "     ...  aged_70_older  gdp_per_capita  extreme_poverty  cvd_death_rate  \\\n",
       "173  ...          1.337        1803.987              NaN         597.029   \n",
       "300  ...          8.643       11803.431              1.1         304.195   \n",
       "491  ...          3.857       13913.839              0.5         278.364   \n",
       "613  ...            NaN             NaN              NaN         109.135   \n",
       "727  ...          1.362        5819.495              NaN         276.045   \n",
       "\n",
       "     diabetes_prevalence  female_smokers  male_smokers  \\\n",
       "173                 9.59             NaN           NaN   \n",
       "300                10.08             7.1          51.2   \n",
       "491                 6.73             0.7          30.4   \n",
       "613                 7.97            29.0          37.8   \n",
       "727                 3.94             NaN           NaN   \n",
       "\n",
       "     handwashing_facilities hospital_beds_per_thousand  life_expectancy  \n",
       "173                  37.746                       0.50            64.83  \n",
       "300                     NaN                       2.89            78.57  \n",
       "491                  83.741                       1.90            76.88  \n",
       "613                     NaN                        NaN            83.73  \n",
       "727                  26.664                        NaN            61.15  \n",
       "\n",
       "[5 rows x 34 columns]"
      ]
     },
     "execution_count": 35,
     "metadata": {},
     "output_type": "execute_result"
    }
   ],
   "source": [
    "data = pd.read_csv('C:/Users/phpunsal/Documents/Data_Analytics/Corona_Virus_Data/world_data/owid-covid-data.csv')\n",
    "data['date'] = pd.to_datetime(data['date'])\n",
    "df = data[data['date'] == '2020-07-01']\n",
    "\n",
    "df.head()"
   ]
  },
  {
   "cell_type": "code",
   "execution_count": 36,
   "id": "b5b389d0-f5ea-4009-b1a7-e7e73afb0b4d",
   "metadata": {},
   "outputs": [
    {
     "data": {
      "text/html": [
       "<div>\n",
       "<style scoped>\n",
       "    .dataframe tbody tr th:only-of-type {\n",
       "        vertical-align: middle;\n",
       "    }\n",
       "\n",
       "    .dataframe tbody tr th {\n",
       "        vertical-align: top;\n",
       "    }\n",
       "\n",
       "    .dataframe thead th {\n",
       "        text-align: right;\n",
       "    }\n",
       "</style>\n",
       "<table border=\"1\" class=\"dataframe\">\n",
       "  <thead>\n",
       "    <tr style=\"text-align: right;\">\n",
       "      <th></th>\n",
       "      <th>iso_code</th>\n",
       "      <th>continent</th>\n",
       "      <th>location</th>\n",
       "      <th>date</th>\n",
       "      <th>total_cases</th>\n",
       "      <th>new_cases</th>\n",
       "      <th>total_deaths</th>\n",
       "      <th>new_deaths</th>\n",
       "      <th>total_cases_per_million</th>\n",
       "      <th>new_cases_per_million</th>\n",
       "      <th>...</th>\n",
       "      <th>aged_70_older</th>\n",
       "      <th>gdp_per_capita</th>\n",
       "      <th>extreme_poverty</th>\n",
       "      <th>cvd_death_rate</th>\n",
       "      <th>diabetes_prevalence</th>\n",
       "      <th>female_smokers</th>\n",
       "      <th>male_smokers</th>\n",
       "      <th>handwashing_facilities</th>\n",
       "      <th>hospital_beds_per_thousand</th>\n",
       "      <th>life_expectancy</th>\n",
       "    </tr>\n",
       "  </thead>\n",
       "  <tbody>\n",
       "    <tr>\n",
       "      <th>29411</th>\n",
       "      <td>ESH</td>\n",
       "      <td>Africa</td>\n",
       "      <td>Western Sahara</td>\n",
       "      <td>2020-07-01</td>\n",
       "      <td>380.0</td>\n",
       "      <td>172.0</td>\n",
       "      <td>1.0</td>\n",
       "      <td>0.0</td>\n",
       "      <td>636.164</td>\n",
       "      <td>287.948</td>\n",
       "      <td>...</td>\n",
       "      <td>1.380</td>\n",
       "      <td>NaN</td>\n",
       "      <td>NaN</td>\n",
       "      <td>NaN</td>\n",
       "      <td>NaN</td>\n",
       "      <td>NaN</td>\n",
       "      <td>NaN</td>\n",
       "      <td>NaN</td>\n",
       "      <td>NaN</td>\n",
       "      <td>70.26</td>\n",
       "    </tr>\n",
       "    <tr>\n",
       "      <th>29506</th>\n",
       "      <td>YEM</td>\n",
       "      <td>Asia</td>\n",
       "      <td>Yemen</td>\n",
       "      <td>2020-07-01</td>\n",
       "      <td>1158.0</td>\n",
       "      <td>30.0</td>\n",
       "      <td>312.0</td>\n",
       "      <td>8.0</td>\n",
       "      <td>38.825</td>\n",
       "      <td>1.006</td>\n",
       "      <td>...</td>\n",
       "      <td>1.583</td>\n",
       "      <td>1479.147</td>\n",
       "      <td>18.8</td>\n",
       "      <td>495.003</td>\n",
       "      <td>5.35</td>\n",
       "      <td>7.600</td>\n",
       "      <td>29.200</td>\n",
       "      <td>49.542</td>\n",
       "      <td>0.700</td>\n",
       "      <td>66.12</td>\n",
       "    </tr>\n",
       "    <tr>\n",
       "      <th>29623</th>\n",
       "      <td>ZMB</td>\n",
       "      <td>Africa</td>\n",
       "      <td>Zambia</td>\n",
       "      <td>2020-07-01</td>\n",
       "      <td>1594.0</td>\n",
       "      <td>26.0</td>\n",
       "      <td>24.0</td>\n",
       "      <td>2.0</td>\n",
       "      <td>86.706</td>\n",
       "      <td>1.414</td>\n",
       "      <td>...</td>\n",
       "      <td>1.542</td>\n",
       "      <td>3689.251</td>\n",
       "      <td>57.5</td>\n",
       "      <td>234.499</td>\n",
       "      <td>3.94</td>\n",
       "      <td>3.100</td>\n",
       "      <td>24.700</td>\n",
       "      <td>13.938</td>\n",
       "      <td>2.000</td>\n",
       "      <td>63.89</td>\n",
       "    </tr>\n",
       "    <tr>\n",
       "      <th>29738</th>\n",
       "      <td>ZWE</td>\n",
       "      <td>Africa</td>\n",
       "      <td>Zimbabwe</td>\n",
       "      <td>2020-07-01</td>\n",
       "      <td>591.0</td>\n",
       "      <td>17.0</td>\n",
       "      <td>7.0</td>\n",
       "      <td>0.0</td>\n",
       "      <td>39.763</td>\n",
       "      <td>1.144</td>\n",
       "      <td>...</td>\n",
       "      <td>1.882</td>\n",
       "      <td>1899.775</td>\n",
       "      <td>21.4</td>\n",
       "      <td>307.846</td>\n",
       "      <td>1.82</td>\n",
       "      <td>1.600</td>\n",
       "      <td>30.700</td>\n",
       "      <td>36.791</td>\n",
       "      <td>1.700</td>\n",
       "      <td>61.49</td>\n",
       "    </tr>\n",
       "    <tr>\n",
       "      <th>29934</th>\n",
       "      <td>OWID_WRL</td>\n",
       "      <td>NaN</td>\n",
       "      <td>World</td>\n",
       "      <td>2020-07-01</td>\n",
       "      <td>10465987.0</td>\n",
       "      <td>192563.0</td>\n",
       "      <td>511041.0</td>\n",
       "      <td>5732.0</td>\n",
       "      <td>1342.689</td>\n",
       "      <td>24.704</td>\n",
       "      <td>...</td>\n",
       "      <td>5.355</td>\n",
       "      <td>15469.207</td>\n",
       "      <td>10.0</td>\n",
       "      <td>233.070</td>\n",
       "      <td>8.51</td>\n",
       "      <td>6.434</td>\n",
       "      <td>34.635</td>\n",
       "      <td>60.130</td>\n",
       "      <td>2.705</td>\n",
       "      <td>72.58</td>\n",
       "    </tr>\n",
       "  </tbody>\n",
       "</table>\n",
       "<p>5 rows × 34 columns</p>\n",
       "</div>"
      ],
      "text/plain": [
       "       iso_code continent        location       date  total_cases  new_cases  \\\n",
       "29411       ESH    Africa  Western Sahara 2020-07-01        380.0      172.0   \n",
       "29506       YEM      Asia           Yemen 2020-07-01       1158.0       30.0   \n",
       "29623       ZMB    Africa          Zambia 2020-07-01       1594.0       26.0   \n",
       "29738       ZWE    Africa        Zimbabwe 2020-07-01        591.0       17.0   \n",
       "29934  OWID_WRL       NaN           World 2020-07-01   10465987.0   192563.0   \n",
       "\n",
       "       total_deaths  new_deaths  total_cases_per_million  \\\n",
       "29411           1.0         0.0                  636.164   \n",
       "29506         312.0         8.0                   38.825   \n",
       "29623          24.0         2.0                   86.706   \n",
       "29738           7.0         0.0                   39.763   \n",
       "29934      511041.0      5732.0                 1342.689   \n",
       "\n",
       "       new_cases_per_million  ...  aged_70_older  gdp_per_capita  \\\n",
       "29411                287.948  ...          1.380             NaN   \n",
       "29506                  1.006  ...          1.583        1479.147   \n",
       "29623                  1.414  ...          1.542        3689.251   \n",
       "29738                  1.144  ...          1.882        1899.775   \n",
       "29934                 24.704  ...          5.355       15469.207   \n",
       "\n",
       "       extreme_poverty  cvd_death_rate  diabetes_prevalence  female_smokers  \\\n",
       "29411              NaN             NaN                  NaN             NaN   \n",
       "29506             18.8         495.003                 5.35           7.600   \n",
       "29623             57.5         234.499                 3.94           3.100   \n",
       "29738             21.4         307.846                 1.82           1.600   \n",
       "29934             10.0         233.070                 8.51           6.434   \n",
       "\n",
       "       male_smokers  handwashing_facilities hospital_beds_per_thousand  \\\n",
       "29411           NaN                     NaN                        NaN   \n",
       "29506        29.200                  49.542                      0.700   \n",
       "29623        24.700                  13.938                      2.000   \n",
       "29738        30.700                  36.791                      1.700   \n",
       "29934        34.635                  60.130                      2.705   \n",
       "\n",
       "       life_expectancy  \n",
       "29411            70.26  \n",
       "29506            66.12  \n",
       "29623            63.89  \n",
       "29738            61.49  \n",
       "29934            72.58  \n",
       "\n",
       "[5 rows x 34 columns]"
      ]
     },
     "execution_count": 36,
     "metadata": {},
     "output_type": "execute_result"
    }
   ],
   "source": [
    "df.tail()"
   ]
  },
  {
   "cell_type": "code",
   "execution_count": 37,
   "id": "6c2e44c0-6ba4-4d02-bde2-e62a420c27b6",
   "metadata": {},
   "outputs": [
    {
     "name": "stdout",
     "output_type": "stream",
     "text": [
      "<class 'pandas.core.frame.DataFrame'>\n",
      "Index: 211 entries, 173 to 29934\n",
      "Data columns (total 34 columns):\n",
      " #   Column                           Non-Null Count  Dtype         \n",
      "---  ------                           --------------  -----         \n",
      " 0   iso_code                         211 non-null    object        \n",
      " 1   continent                        210 non-null    object        \n",
      " 2   location                         211 non-null    object        \n",
      " 3   date                             211 non-null    datetime64[ns]\n",
      " 4   total_cases                      210 non-null    float64       \n",
      " 5   new_cases                        210 non-null    float64       \n",
      " 6   total_deaths                     210 non-null    float64       \n",
      " 7   new_deaths                       210 non-null    float64       \n",
      " 8   total_cases_per_million          210 non-null    float64       \n",
      " 9   new_cases_per_million            210 non-null    float64       \n",
      " 10  total_deaths_per_million         210 non-null    float64       \n",
      " 11  new_deaths_per_million           210 non-null    float64       \n",
      " 12  total_tests                      73 non-null     float64       \n",
      " 13  new_tests                        73 non-null     float64       \n",
      " 14  total_tests_per_thousand         73 non-null     float64       \n",
      " 15  new_tests_per_thousand           73 non-null     float64       \n",
      " 16  new_tests_smoothed               83 non-null     float64       \n",
      " 17  new_tests_smoothed_per_thousand  83 non-null     float64       \n",
      " 18  tests_units                      85 non-null     object        \n",
      " 19  stringency_index                 155 non-null    float64       \n",
      " 20  population                       211 non-null    float64       \n",
      " 21  population_density               200 non-null    float64       \n",
      " 22  median_age                       187 non-null    float64       \n",
      " 23  aged_65_older                    184 non-null    float64       \n",
      " 24  aged_70_older                    186 non-null    float64       \n",
      " 25  gdp_per_capita                   184 non-null    float64       \n",
      " 26  extreme_poverty                  122 non-null    float64       \n",
      " 27  cvd_death_rate                   186 non-null    float64       \n",
      " 28  diabetes_prevalence              194 non-null    float64       \n",
      " 29  female_smokers                   141 non-null    float64       \n",
      " 30  male_smokers                     139 non-null    float64       \n",
      " 31  handwashing_facilities           92 non-null     float64       \n",
      " 32  hospital_beds_per_thousand       165 non-null    float64       \n",
      " 33  life_expectancy                  208 non-null    float64       \n",
      "dtypes: datetime64[ns](1), float64(29), object(4)\n",
      "memory usage: 57.7+ KB\n"
     ]
    }
   ],
   "source": [
    "df.info()"
   ]
  },
  {
   "cell_type": "markdown",
   "id": "60a15b36-cc2e-411b-869b-8c30150b56f3",
   "metadata": {},
   "source": [
    "There seems to be a lot of missing data, especially when it comes to tests."
   ]
  },
  {
   "cell_type": "code",
   "execution_count": 38,
   "id": "8b4f374e-a6bf-4b1f-accb-2ea09d33b99d",
   "metadata": {},
   "outputs": [
    {
     "data": {
      "text/plain": [
       "(211, 34)"
      ]
     },
     "execution_count": 38,
     "metadata": {},
     "output_type": "execute_result"
    }
   ],
   "source": [
    "df.shape"
   ]
  },
  {
   "cell_type": "markdown",
   "id": "b7d76290-cacc-4e16-952c-7269bbf29245",
   "metadata": {},
   "source": [
    "The dataframe consists of 34 columns and 211 rows."
   ]
  },
  {
   "cell_type": "markdown",
   "id": "a034f568-56e6-442b-ad2e-20f44a4e1db2",
   "metadata": {},
   "source": [
    "The last row is for World, so this will have to be removed in a new df called Countries:"
   ]
  },
  {
   "cell_type": "code",
   "execution_count": 39,
   "id": "fc3c9463-f663-4988-82d0-db09bf1b4c93",
   "metadata": {},
   "outputs": [],
   "source": [
    "countries = df.copy()\n",
    "countries = countries[countries['location']!='World']"
   ]
  },
  {
   "cell_type": "markdown",
   "id": "84a9ccb8-fc30-492e-9453-f8c81743f954",
   "metadata": {},
   "source": [
    "Comparing the shapes of the DataFrames, it can be seen that the 1 row containing World was removed"
   ]
  },
  {
   "cell_type": "code",
   "execution_count": 40,
   "id": "57bab902-180a-4e5e-b79b-26ca20b8d559",
   "metadata": {},
   "outputs": [
    {
     "name": "stdout",
     "output_type": "stream",
     "text": [
      "(211, 34) (210, 34)\n"
     ]
    }
   ],
   "source": [
    "print(df.shape, countries.shape)"
   ]
  },
  {
   "cell_type": "markdown",
   "id": "a0f8ed93-8369-4976-8036-5f3ae5cb4be4",
   "metadata": {},
   "source": [
    "A new df based on the `countries` df is created, with only 3 columns and ordered by 'total_death_per_million':"
   ]
  },
  {
   "cell_type": "code",
   "execution_count": 41,
   "id": "bb0a3ac6-3ddd-4e3a-a66c-e71ed81b2fb7",
   "metadata": {},
   "outputs": [
    {
     "data": {
      "text/html": [
       "<div>\n",
       "<style scoped>\n",
       "    .dataframe tbody tr th:only-of-type {\n",
       "        vertical-align: middle;\n",
       "    }\n",
       "\n",
       "    .dataframe tbody tr th {\n",
       "        vertical-align: top;\n",
       "    }\n",
       "\n",
       "    .dataframe thead th {\n",
       "        text-align: right;\n",
       "    }\n",
       "</style>\n",
       "<table border=\"1\" class=\"dataframe\">\n",
       "  <thead>\n",
       "    <tr style=\"text-align: right;\">\n",
       "      <th></th>\n",
       "      <th>continent</th>\n",
       "      <th>location</th>\n",
       "      <th>total_deaths_per_million</th>\n",
       "    </tr>\n",
       "  </thead>\n",
       "  <tbody>\n",
       "    <tr>\n",
       "      <th>23306</th>\n",
       "      <td>Europe</td>\n",
       "      <td>San Marino</td>\n",
       "      <td>1237.551</td>\n",
       "    </tr>\n",
       "    <tr>\n",
       "      <th>2917</th>\n",
       "      <td>Europe</td>\n",
       "      <td>Belgium</td>\n",
       "      <td>841.615</td>\n",
       "    </tr>\n",
       "    <tr>\n",
       "      <th>613</th>\n",
       "      <td>Europe</td>\n",
       "      <td>Andorra</td>\n",
       "      <td>673.008</td>\n",
       "    </tr>\n",
       "    <tr>\n",
       "      <th>28347</th>\n",
       "      <td>Europe</td>\n",
       "      <td>United Kingdom</td>\n",
       "      <td>644.168</td>\n",
       "    </tr>\n",
       "    <tr>\n",
       "      <th>25362</th>\n",
       "      <td>Europe</td>\n",
       "      <td>Spain</td>\n",
       "      <td>606.633</td>\n",
       "    </tr>\n",
       "    <tr>\n",
       "      <th>...</th>\n",
       "      <td>...</td>\n",
       "      <td>...</td>\n",
       "      <td>...</td>\n",
       "    </tr>\n",
       "    <tr>\n",
       "      <th>23111</th>\n",
       "      <td>North America</td>\n",
       "      <td>Saint Vincent and the Grenadines</td>\n",
       "      <td>0.000</td>\n",
       "    </tr>\n",
       "    <tr>\n",
       "      <th>23926</th>\n",
       "      <td>Africa</td>\n",
       "      <td>Seychelles</td>\n",
       "      <td>0.000</td>\n",
       "    </tr>\n",
       "    <tr>\n",
       "      <th>15734</th>\n",
       "      <td>Africa</td>\n",
       "      <td>Lesotho</td>\n",
       "      <td>0.000</td>\n",
       "    </tr>\n",
       "    <tr>\n",
       "      <th>10808</th>\n",
       "      <td>Europe</td>\n",
       "      <td>Gibraltar</td>\n",
       "      <td>0.000</td>\n",
       "    </tr>\n",
       "    <tr>\n",
       "      <th>12195</th>\n",
       "      <td>Asia</td>\n",
       "      <td>Hong Kong</td>\n",
       "      <td>NaN</td>\n",
       "    </tr>\n",
       "  </tbody>\n",
       "</table>\n",
       "<p>210 rows × 3 columns</p>\n",
       "</div>"
      ],
      "text/plain": [
       "           continent                          location  \\\n",
       "23306         Europe                        San Marino   \n",
       "2917          Europe                           Belgium   \n",
       "613           Europe                           Andorra   \n",
       "28347         Europe                    United Kingdom   \n",
       "25362         Europe                             Spain   \n",
       "...              ...                               ...   \n",
       "23111  North America  Saint Vincent and the Grenadines   \n",
       "23926         Africa                        Seychelles   \n",
       "15734         Africa                           Lesotho   \n",
       "10808         Europe                         Gibraltar   \n",
       "12195           Asia                         Hong Kong   \n",
       "\n",
       "       total_deaths_per_million  \n",
       "23306                  1237.551  \n",
       "2917                    841.615  \n",
       "613                     673.008  \n",
       "28347                   644.168  \n",
       "25362                   606.633  \n",
       "...                         ...  \n",
       "23111                     0.000  \n",
       "23926                     0.000  \n",
       "15734                     0.000  \n",
       "10808                     0.000  \n",
       "12195                       NaN  \n",
       "\n",
       "[210 rows x 3 columns]"
      ]
     },
     "execution_count": 41,
     "metadata": {},
     "output_type": "execute_result"
    }
   ],
   "source": [
    "cols = ['continent', 'location', 'total_deaths_per_million']\n",
    "\n",
    "countries_dr = countries.copy()\n",
    "countries_dr = countries_dr[cols].sort_values(by='total_deaths_per_million', ascending=False)\n",
    "\n",
    "countries_dr\n"
   ]
  },
  {
   "cell_type": "markdown",
   "id": "43f90a74-0006-4ee0-a517-adb5439f9aca",
   "metadata": {},
   "source": [
    "Now, using the 'countries' df, I can find the sum of the total tests for countries in the continent of Africa and convert the result into an integer:"
   ]
  },
  {
   "cell_type": "code",
   "execution_count": 42,
   "id": "dc676ad8-08a2-4493-a0a6-8b02a12ea904",
   "metadata": {},
   "outputs": [
    {
     "data": {
      "text/plain": [
       "3445134"
      ]
     },
     "execution_count": 42,
     "metadata": {},
     "output_type": "execute_result"
    }
   ],
   "source": [
    "africa_tests = countries[countries['continent']=='Africa']['total_tests'].sum().astype(int)\n",
    "africa_tests"
   ]
  },
  {
   "cell_type": "markdown",
   "id": "498e44a6-4249-4368-8801-6eb839bde7bb",
   "metadata": {},
   "source": [
    "I can then find how many countries in Africa have no value recorded for total tests:"
   ]
  },
  {
   "cell_type": "code",
   "execution_count": 43,
   "id": "4734371f-69fe-4c21-8ebf-a67b7b673a92",
   "metadata": {},
   "outputs": [
    {
     "data": {
      "text/plain": [
       "45"
      ]
     },
     "execution_count": 43,
     "metadata": {},
     "output_type": "execute_result"
    }
   ],
   "source": [
    "africa_missing_test_data = countries[countries['continent']=='Africa']['total_tests'].isna().sum()\n",
    "africa_missing_test_data"
   ]
  },
  {
   "cell_type": "markdown",
   "id": "61ee17ca-0d93-4ba0-ba28-2bedd15efff1",
   "metadata": {},
   "source": [
    "Next, I can find how many countries have a higher value for total tests than the UK:"
   ]
  },
  {
   "cell_type": "code",
   "execution_count": 44,
   "id": "af3d254d-ba17-4728-b53a-d4d2523107a8",
   "metadata": {},
   "outputs": [
    {
     "data": {
      "text/plain": [
       "3"
      ]
     },
     "execution_count": 44,
     "metadata": {},
     "output_type": "execute_result"
    }
   ],
   "source": [
    "uk_tests = countries[countries['location']=='United Kingdom']['total_tests'].values[0]\n",
    "countries_more_tests = len(countries[countries['total_tests']>uk_tests])\n",
    "countries_more_tests"
   ]
  },
  {
   "cell_type": "markdown",
   "id": "8b5c5251-151a-4eac-a18c-8978190f0900",
   "metadata": {},
   "source": [
    "Then a new df is created, based on the `countries` df but with only 2 columns.\n",
    "\n",
    "This will compare `hospital_beds_per_thousand` with `total_deaths_per_million`:"
   ]
  },
  {
   "cell_type": "code",
   "execution_count": 45,
   "id": "4854c339-1c49-4525-b0a3-a1aa8c34acc8",
   "metadata": {},
   "outputs": [
    {
     "data": {
      "text/html": [
       "<div>\n",
       "<style scoped>\n",
       "    .dataframe tbody tr th:only-of-type {\n",
       "        vertical-align: middle;\n",
       "    }\n",
       "\n",
       "    .dataframe tbody tr th {\n",
       "        vertical-align: top;\n",
       "    }\n",
       "\n",
       "    .dataframe thead th {\n",
       "        text-align: right;\n",
       "    }\n",
       "</style>\n",
       "<table border=\"1\" class=\"dataframe\">\n",
       "  <thead>\n",
       "    <tr style=\"text-align: right;\">\n",
       "      <th></th>\n",
       "      <th>hospital_beds_per_thousand</th>\n",
       "      <th>total_deaths_per_million</th>\n",
       "    </tr>\n",
       "  </thead>\n",
       "  <tbody>\n",
       "    <tr>\n",
       "      <th>173</th>\n",
       "      <td>0.50</td>\n",
       "      <td>19.163</td>\n",
       "    </tr>\n",
       "    <tr>\n",
       "      <th>300</th>\n",
       "      <td>2.89</td>\n",
       "      <td>21.544</td>\n",
       "    </tr>\n",
       "    <tr>\n",
       "      <th>491</th>\n",
       "      <td>1.90</td>\n",
       "      <td>20.798</td>\n",
       "    </tr>\n",
       "    <tr>\n",
       "      <th>952</th>\n",
       "      <td>3.80</td>\n",
       "      <td>30.635</td>\n",
       "    </tr>\n",
       "    <tr>\n",
       "      <th>1081</th>\n",
       "      <td>5.00</td>\n",
       "      <td>28.919</td>\n",
       "    </tr>\n",
       "  </tbody>\n",
       "</table>\n",
       "</div>"
      ],
      "text/plain": [
       "      hospital_beds_per_thousand  total_deaths_per_million\n",
       "173                         0.50                    19.163\n",
       "300                         2.89                    21.544\n",
       "491                         1.90                    20.798\n",
       "952                         3.80                    30.635\n",
       "1081                        5.00                    28.919"
      ]
     },
     "execution_count": 45,
     "metadata": {},
     "output_type": "execute_result"
    }
   ],
   "source": [
    "cols2 = ['hospital_beds_per_thousand', 'total_deaths_per_million']\n",
    "beds_dr = countries.copy()\n",
    "beds_dr = beds_dr[cols2].dropna()\n",
    "beds_dr.head()"
   ]
  },
  {
   "cell_type": "markdown",
   "id": "2374600e-2eb3-49ce-bfca-41f23db7f30d",
   "metadata": {},
   "source": [
    "The `beds_dr` df is then used to identify the average `total_deaths_per_million` for entries where `hospital_beds_per_thousand` is greater than the mean.\n",
    "\n",
    "The result is the ratio of Covid Deaths (per million) to Hospital Beds (per thousand), for countries with above average Hospital Beds per capita:"
   ]
  },
  {
   "cell_type": "code",
   "execution_count": 47,
   "id": "01a72694-6002-4d64-b2e0-474729b2b05f",
   "metadata": {},
   "outputs": [
    {
     "data": {
      "text/plain": [
       "98.18423728813559"
      ]
     },
     "execution_count": 47,
     "metadata": {},
     "output_type": "execute_result"
    }
   ],
   "source": [
    "mean_beds = beds_dr['hospital_beds_per_thousand'].mean()\n",
    "\n",
    "dr_high_bed_ratio = beds_dr[beds_dr['hospital_beds_per_thousand']>mean_beds]['total_deaths_per_million'].mean()\n",
    "dr_high_bed_ratio"
   ]
  },
  {
   "cell_type": "markdown",
   "id": "434b6eba-baea-4c39-b233-5e7b62bc10fd",
   "metadata": {},
   "source": [
    "This shows for nations with an above average concentration of hospital beds, there is actually around 98 Covid related deaths (per million people) for every 1 hospital bed (per thousand people).\n",
    "\n",
    "Lets now look at nations with a lower than average concentration of hospital beds:"
   ]
  },
  {
   "cell_type": "code",
   "execution_count": 44,
   "id": "0b22c716-33ad-4356-ae70-259722ea7a2a",
   "metadata": {},
   "outputs": [
    {
     "data": {
      "text/plain": [
       "56.294057142857135"
      ]
     },
     "execution_count": 44,
     "metadata": {},
     "output_type": "execute_result"
    }
   ],
   "source": [
    "dr_low_bed_ratio = beds_dr[beds_dr['hospital_beds_per_thousand']<mean_beds]['total_deaths_per_million'].mean()\n",
    "dr_low_bed_ratio"
   ]
  },
  {
   "cell_type": "markdown",
   "id": "13cdc0c3-d0b8-4b9a-acb4-f81b7c255283",
   "metadata": {},
   "source": [
    "Surprisingly, this shows that nations with a lower than average concentration of hospital beds have a much lower ratio of Covid related deaths (per million people), at around 56 deaths per Hospital bed (per thousand people).\n",
    "\n",
    "This suggests that countries with less hospital beds have less Covid Deaths, although there may be other, economical reasons for this. Wealthier nations may spread the disease more rapidly. Perhaps hospitals were not able to prevent deaths so well?"
   ]
  },
  {
   "cell_type": "markdown",
   "id": "d3da8347-351a-4cb3-ba67-fbfe8111bcef",
   "metadata": {},
   "source": [
    "Next, lets create a new df containing only rows of countries with zero new cases:"
   ]
  },
  {
   "cell_type": "code",
   "execution_count": 48,
   "id": "68153987-30e1-426b-97fe-301edf1c4ea6",
   "metadata": {},
   "outputs": [
    {
     "data": {
      "text/html": [
       "<div>\n",
       "<style scoped>\n",
       "    .dataframe tbody tr th:only-of-type {\n",
       "        vertical-align: middle;\n",
       "    }\n",
       "\n",
       "    .dataframe tbody tr th {\n",
       "        vertical-align: top;\n",
       "    }\n",
       "\n",
       "    .dataframe thead th {\n",
       "        text-align: right;\n",
       "    }\n",
       "</style>\n",
       "<table border=\"1\" class=\"dataframe\">\n",
       "  <thead>\n",
       "    <tr style=\"text-align: right;\">\n",
       "      <th></th>\n",
       "      <th>iso_code</th>\n",
       "      <th>continent</th>\n",
       "      <th>location</th>\n",
       "      <th>date</th>\n",
       "      <th>total_cases</th>\n",
       "      <th>new_cases</th>\n",
       "      <th>total_deaths</th>\n",
       "      <th>new_deaths</th>\n",
       "      <th>total_cases_per_million</th>\n",
       "      <th>new_cases_per_million</th>\n",
       "      <th>...</th>\n",
       "      <th>aged_70_older</th>\n",
       "      <th>gdp_per_capita</th>\n",
       "      <th>extreme_poverty</th>\n",
       "      <th>cvd_death_rate</th>\n",
       "      <th>diabetes_prevalence</th>\n",
       "      <th>female_smokers</th>\n",
       "      <th>male_smokers</th>\n",
       "      <th>handwashing_facilities</th>\n",
       "      <th>hospital_beds_per_thousand</th>\n",
       "      <th>life_expectancy</th>\n",
       "    </tr>\n",
       "  </thead>\n",
       "  <tbody>\n",
       "    <tr>\n",
       "      <th>613</th>\n",
       "      <td>AND</td>\n",
       "      <td>Europe</td>\n",
       "      <td>Andorra</td>\n",
       "      <td>2020-07-01</td>\n",
       "      <td>855.0</td>\n",
       "      <td>0.0</td>\n",
       "      <td>52.0</td>\n",
       "      <td>0.0</td>\n",
       "      <td>11065.812</td>\n",
       "      <td>0.0</td>\n",
       "      <td>...</td>\n",
       "      <td>NaN</td>\n",
       "      <td>NaN</td>\n",
       "      <td>NaN</td>\n",
       "      <td>109.135</td>\n",
       "      <td>7.97</td>\n",
       "      <td>29.0</td>\n",
       "      <td>37.8</td>\n",
       "      <td>NaN</td>\n",
       "      <td>NaN</td>\n",
       "      <td>83.73</td>\n",
       "    </tr>\n",
       "    <tr>\n",
       "      <th>836</th>\n",
       "      <td>AIA</td>\n",
       "      <td>North America</td>\n",
       "      <td>Anguilla</td>\n",
       "      <td>2020-07-01</td>\n",
       "      <td>3.0</td>\n",
       "      <td>0.0</td>\n",
       "      <td>0.0</td>\n",
       "      <td>0.0</td>\n",
       "      <td>199.973</td>\n",
       "      <td>0.0</td>\n",
       "      <td>...</td>\n",
       "      <td>NaN</td>\n",
       "      <td>NaN</td>\n",
       "      <td>NaN</td>\n",
       "      <td>NaN</td>\n",
       "      <td>NaN</td>\n",
       "      <td>NaN</td>\n",
       "      <td>NaN</td>\n",
       "      <td>NaN</td>\n",
       "      <td>NaN</td>\n",
       "      <td>81.88</td>\n",
       "    </tr>\n",
       "    <tr>\n",
       "      <th>952</th>\n",
       "      <td>ATG</td>\n",
       "      <td>North America</td>\n",
       "      <td>Antigua and Barbuda</td>\n",
       "      <td>2020-07-01</td>\n",
       "      <td>66.0</td>\n",
       "      <td>0.0</td>\n",
       "      <td>3.0</td>\n",
       "      <td>0.0</td>\n",
       "      <td>673.965</td>\n",
       "      <td>0.0</td>\n",
       "      <td>...</td>\n",
       "      <td>4.631</td>\n",
       "      <td>21490.943</td>\n",
       "      <td>NaN</td>\n",
       "      <td>191.511</td>\n",
       "      <td>13.17</td>\n",
       "      <td>NaN</td>\n",
       "      <td>NaN</td>\n",
       "      <td>NaN</td>\n",
       "      <td>3.8</td>\n",
       "      <td>77.02</td>\n",
       "    </tr>\n",
       "    <tr>\n",
       "      <th>1381</th>\n",
       "      <td>ABW</td>\n",
       "      <td>North America</td>\n",
       "      <td>Aruba</td>\n",
       "      <td>2020-07-01</td>\n",
       "      <td>103.0</td>\n",
       "      <td>0.0</td>\n",
       "      <td>3.0</td>\n",
       "      <td>0.0</td>\n",
       "      <td>964.727</td>\n",
       "      <td>0.0</td>\n",
       "      <td>...</td>\n",
       "      <td>7.452</td>\n",
       "      <td>35973.781</td>\n",
       "      <td>NaN</td>\n",
       "      <td>NaN</td>\n",
       "      <td>11.62</td>\n",
       "      <td>NaN</td>\n",
       "      <td>NaN</td>\n",
       "      <td>NaN</td>\n",
       "      <td>NaN</td>\n",
       "      <td>76.29</td>\n",
       "    </tr>\n",
       "    <tr>\n",
       "      <th>2080</th>\n",
       "      <td>BHS</td>\n",
       "      <td>North America</td>\n",
       "      <td>Bahamas</td>\n",
       "      <td>2020-07-01</td>\n",
       "      <td>104.0</td>\n",
       "      <td>0.0</td>\n",
       "      <td>11.0</td>\n",
       "      <td>0.0</td>\n",
       "      <td>264.464</td>\n",
       "      <td>0.0</td>\n",
       "      <td>...</td>\n",
       "      <td>5.200</td>\n",
       "      <td>27717.847</td>\n",
       "      <td>NaN</td>\n",
       "      <td>235.954</td>\n",
       "      <td>13.17</td>\n",
       "      <td>3.1</td>\n",
       "      <td>20.4</td>\n",
       "      <td>NaN</td>\n",
       "      <td>2.9</td>\n",
       "      <td>73.92</td>\n",
       "    </tr>\n",
       "  </tbody>\n",
       "</table>\n",
       "<p>5 rows × 34 columns</p>\n",
       "</div>"
      ],
      "text/plain": [
       "     iso_code      continent             location       date  total_cases  \\\n",
       "613       AND         Europe              Andorra 2020-07-01        855.0   \n",
       "836       AIA  North America             Anguilla 2020-07-01          3.0   \n",
       "952       ATG  North America  Antigua and Barbuda 2020-07-01         66.0   \n",
       "1381      ABW  North America                Aruba 2020-07-01        103.0   \n",
       "2080      BHS  North America              Bahamas 2020-07-01        104.0   \n",
       "\n",
       "      new_cases  total_deaths  new_deaths  total_cases_per_million  \\\n",
       "613         0.0          52.0         0.0                11065.812   \n",
       "836         0.0           0.0         0.0                  199.973   \n",
       "952         0.0           3.0         0.0                  673.965   \n",
       "1381        0.0           3.0         0.0                  964.727   \n",
       "2080        0.0          11.0         0.0                  264.464   \n",
       "\n",
       "      new_cases_per_million  ...  aged_70_older  gdp_per_capita  \\\n",
       "613                     0.0  ...            NaN             NaN   \n",
       "836                     0.0  ...            NaN             NaN   \n",
       "952                     0.0  ...          4.631       21490.943   \n",
       "1381                    0.0  ...          7.452       35973.781   \n",
       "2080                    0.0  ...          5.200       27717.847   \n",
       "\n",
       "      extreme_poverty  cvd_death_rate  diabetes_prevalence  female_smokers  \\\n",
       "613               NaN         109.135                 7.97            29.0   \n",
       "836               NaN             NaN                  NaN             NaN   \n",
       "952               NaN         191.511                13.17             NaN   \n",
       "1381              NaN             NaN                11.62             NaN   \n",
       "2080              NaN         235.954                13.17             3.1   \n",
       "\n",
       "      male_smokers  handwashing_facilities hospital_beds_per_thousand  \\\n",
       "613           37.8                     NaN                        NaN   \n",
       "836            NaN                     NaN                        NaN   \n",
       "952            NaN                     NaN                        3.8   \n",
       "1381           NaN                     NaN                        NaN   \n",
       "2080          20.4                     NaN                        2.9   \n",
       "\n",
       "      life_expectancy  \n",
       "613             83.73  \n",
       "836             81.88  \n",
       "952             77.02  \n",
       "1381            76.29  \n",
       "2080            73.92  \n",
       "\n",
       "[5 rows x 34 columns]"
      ]
     },
     "execution_count": 48,
     "metadata": {},
     "output_type": "execute_result"
    }
   ],
   "source": [
    "no_new_cases = countries[countries['new_cases'] == 0]\n",
    "no_new_cases.head()"
   ]
  },
  {
   "cell_type": "markdown",
   "id": "4eca9da6-295f-4ad1-82a5-ad4d7d30b0ac",
   "metadata": {},
   "source": [
    "Then, the country with the highest number of total cases, but with no new cases, can be identified.\n",
    "\n",
    "This can help identify those who have had success in stopping their outbreak:"
   ]
  },
  {
   "cell_type": "code",
   "execution_count": 49,
   "id": "459dfbb6-c699-4570-824d-f04de9cb9011",
   "metadata": {},
   "outputs": [
    {
     "data": {
      "text/plain": [
       "'Cameroon'"
      ]
     },
     "execution_count": 49,
     "metadata": {},
     "output_type": "execute_result"
    }
   ],
   "source": [
    "highest_no_new = no_new_cases.loc[no_new_cases['total_cases'] == no_new_cases['total_cases'].max()]['location'].item()\n",
    "highest_no_new"
   ]
  },
  {
   "cell_type": "markdown",
   "id": "b202b409-37a5-4b68-84d0-81bc28aa7702",
   "metadata": {},
   "source": [
    "From the `countries` df, I can find the sum of the populations of all countries which have had zero total deaths, in millions:"
   ]
  },
  {
   "cell_type": "code",
   "execution_count": 50,
   "id": "8885c46b-0a1a-47e7-923b-a6466ac196e5",
   "metadata": {},
   "outputs": [
    {
     "data": {
      "text/plain": [
       "192"
      ]
     },
     "execution_count": 50,
     "metadata": {},
     "output_type": "execute_result"
    }
   ],
   "source": [
    "sum_populations_no_deaths = (round((countries[countries['total_deaths']==0]['population'].sum())/1000000))\n",
    "sum_populations_no_deaths"
   ]
  },
  {
   "cell_type": "markdown",
   "id": "083baa3a-ffcd-4558-96be-edf57ca35f6e",
   "metadata": {},
   "source": [
    "A function can be created, taking a dataframe, a location and a metric, and returning the location and the metric's value for that location.\n",
    "\n",
    "This is helpful in pulling a specific bit of information from a vast dataset:"
   ]
  },
  {
   "cell_type": "code",
   "execution_count": 55,
   "id": "526ed849-ffaf-4fed-8910-bdd82839a1db",
   "metadata": {},
   "outputs": [],
   "source": [
    "def country_metric(df, location, metric):\n",
    "    \n",
    "    return df[df['location'] == location].iloc[0][metric]"
   ]
  },
  {
   "cell_type": "code",
   "execution_count": 56,
   "id": "021cca58-b4ad-4478-bd18-796b1fb57086",
   "metadata": {},
   "outputs": [
    {
     "data": {
      "text/plain": [
       "4.718"
      ]
     },
     "execution_count": 56,
     "metadata": {},
     "output_type": "execute_result"
    }
   ],
   "source": [
    "vietnam_older_70 = country_metric(countries, 'Vietnam', 'aged_70_older')\n",
    "vietnam_older_70"
   ]
  },
  {
   "cell_type": "markdown",
   "id": "e430c90f-6218-48c0-95bc-254ca938ceb3",
   "metadata": {},
   "source": [
    "Another function, that returns the mean of a metric for a group of countries.\n",
    "\n",
    "Great for comparing a particular country against a group of countries:"
   ]
  },
  {
   "cell_type": "code",
   "execution_count": 57,
   "id": "002c79ea-4dba-4149-b684-73da69b9ce20",
   "metadata": {},
   "outputs": [],
   "source": [
    "def countries_average(df, countries, metric):\n",
    "\n",
    "    df_countries = df['location'].isin(countries)\n",
    "   \n",
    "    \n",
    "    meany = df[df_countries][metric].mean()\n",
    "        \n",
    "    return meany"
   ]
  },
  {
   "cell_type": "markdown",
   "id": "fc50fb22-c529-498d-a983-786d3e917c86",
   "metadata": {},
   "source": [
    "Lets apply this function to the G7 Nations:"
   ]
  },
  {
   "cell_type": "code",
   "execution_count": 58,
   "id": "13af9122-68ca-4194-b0a2-b384771de498",
   "metadata": {},
   "outputs": [
    {
     "data": {
      "text/plain": [
       "82.10571428571428"
      ]
     },
     "execution_count": 58,
     "metadata": {},
     "output_type": "execute_result"
    }
   ],
   "source": [
    "g7 = ['United States', 'Italy', 'Canada', 'Japan', 'United Kingdom', 'Germany', 'France']\n",
    "g7_avg_life_expectancy = countries_average(df, g7, 'life_expectancy')\n",
    "g7_avg_life_expectancy"
   ]
  },
  {
   "cell_type": "markdown",
   "id": "8cbeb898-6e0c-4c50-8302-58f8e9222b1a",
   "metadata": {},
   "source": [
    "Next, the country with the lowest life expectancy can be identified and compared against the G7 average:"
   ]
  },
  {
   "cell_type": "code",
   "execution_count": 61,
   "id": "89c304bd-8bf1-42ea-94a3-cfd3bbe58007",
   "metadata": {},
   "outputs": [
    {
     "name": "stdout",
     "output_type": "stream",
     "text": [
      "Central African Republic has a life expectancy of 28.8 years lower than the G7 average.\n"
     ]
    }
   ],
   "source": [
    "lowest = countries[countries['life_expectancy'] == countries['life_expectancy'].min()].iloc[0]\n",
    "country = lowest['location']\n",
    "life_exp = lowest['life_expectancy']\n",
    "diff = g7_avg_life_expectancy - life_exp\n",
    "headline = f'{country} has a life expectancy of {round(diff,1)} years lower than the G7 average.'\n",
    "print(headline)"
   ]
  },
  {
   "cell_type": "code",
   "execution_count": null,
   "id": "7b80a5e8-fc28-4e8f-b18d-6bfb5db01f39",
   "metadata": {},
   "outputs": [],
   "source": []
  }
 ],
 "metadata": {
  "kernelspec": {
   "display_name": "Python 3 (ipykernel)",
   "language": "python",
   "name": "python3"
  },
  "language_info": {
   "codemirror_mode": {
    "name": "ipython",
    "version": 3
   },
   "file_extension": ".py",
   "mimetype": "text/x-python",
   "name": "python",
   "nbconvert_exporter": "python",
   "pygments_lexer": "ipython3",
   "version": "3.12.1"
  }
 },
 "nbformat": 4,
 "nbformat_minor": 5
}
