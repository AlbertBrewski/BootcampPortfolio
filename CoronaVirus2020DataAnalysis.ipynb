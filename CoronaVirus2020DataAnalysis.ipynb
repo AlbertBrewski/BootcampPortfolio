{
 "cells": [
  {
   "cell_type": "code",
   "execution_count": 5,
   "id": "dc726a31-d3d8-4c5a-aff0-a87bb76e675a",
   "metadata": {},
   "outputs": [],
   "source": [
    "import pandas as pd\n",
    "\n",
    "# first, I will upload the file, immediately changing NaN values to 0, changing the data type to integer, and sort by 'Total Cases' from the highest\n",
    "\n",
    "df = pd.read_csv('C:/Users/phpunsal/Documents/Data_Analytics/Corona_Virus_Data/data/corona.csv').fillna(0).astype(dtype=int, errors='ignore').sort_values(by='Total Cases', ascending=False)\n",
    "\n",
    "# then i'll turn the df into a dictionary\n",
    "latest = df.to_dict('list')"
   ]
  },
  {
   "cell_type": "code",
   "execution_count": 6,
   "id": "8d194ee1-dc70-4ed2-bfc2-0596c9fa351d",
   "metadata": {},
   "outputs": [
    {
     "data": {
      "text/plain": [
       "{'Country': ['China',\n",
       "  'Diamond Princess',\n",
       "  'Singapore',\n",
       "  'Japan',\n",
       "  'Hong Kong',\n",
       "  'S. Korea',\n",
       "  'Thailand',\n",
       "  'USA',\n",
       "  'Taiwan',\n",
       "  'Malaysia',\n",
       "  'Vietnam',\n",
       "  'Germany',\n",
       "  'Australia',\n",
       "  'France',\n",
       "  'Macao',\n",
       "  'U.K.',\n",
       "  'U.A.E.',\n",
       "  'Canada',\n",
       "  'Philippines',\n",
       "  'Italy',\n",
       "  'India',\n",
       "  'Russia',\n",
       "  'Spain',\n",
       "  'Nepal',\n",
       "  'Belgium',\n",
       "  'Sri Lanka',\n",
       "  'Finland',\n",
       "  'Egypt',\n",
       "  'Cambodia',\n",
       "  'Sweden'],\n",
       " 'Total Cases': [74187,\n",
       "  621,\n",
       "  81,\n",
       "  80,\n",
       "  63,\n",
       "  51,\n",
       "  35,\n",
       "  29,\n",
       "  23,\n",
       "  22,\n",
       "  16,\n",
       "  16,\n",
       "  15,\n",
       "  12,\n",
       "  10,\n",
       "  9,\n",
       "  9,\n",
       "  8,\n",
       "  3,\n",
       "  3,\n",
       "  3,\n",
       "  2,\n",
       "  2,\n",
       "  1,\n",
       "  1,\n",
       "  1,\n",
       "  1,\n",
       "  1,\n",
       "  1,\n",
       "  1],\n",
       " 'New Cases': [1751,\n",
       "  79,\n",
       "  0,\n",
       "  6,\n",
       "  1,\n",
       "  20,\n",
       "  0,\n",
       "  0,\n",
       "  1,\n",
       "  0,\n",
       "  0,\n",
       "  0,\n",
       "  0,\n",
       "  0,\n",
       "  0,\n",
       "  0,\n",
       "  0,\n",
       "  0,\n",
       "  0,\n",
       "  0,\n",
       "  0,\n",
       "  0,\n",
       "  0,\n",
       "  0,\n",
       "  0,\n",
       "  0,\n",
       "  0,\n",
       "  0,\n",
       "  0,\n",
       "  0],\n",
       " 'Total Deaths': [2006,\n",
       "  0,\n",
       "  0,\n",
       "  1,\n",
       "  2,\n",
       "  0,\n",
       "  0,\n",
       "  0,\n",
       "  1,\n",
       "  0,\n",
       "  0,\n",
       "  0,\n",
       "  0,\n",
       "  1,\n",
       "  0,\n",
       "  0,\n",
       "  0,\n",
       "  0,\n",
       "  1,\n",
       "  0,\n",
       "  0,\n",
       "  0,\n",
       "  0,\n",
       "  0,\n",
       "  0,\n",
       "  0,\n",
       "  0,\n",
       "  0,\n",
       "  0,\n",
       "  0],\n",
       " 'New Deaths': [138,\n",
       "  0,\n",
       "  0,\n",
       "  0,\n",
       "  1,\n",
       "  0,\n",
       "  0,\n",
       "  0,\n",
       "  0,\n",
       "  0,\n",
       "  0,\n",
       "  0,\n",
       "  0,\n",
       "  0,\n",
       "  0,\n",
       "  0,\n",
       "  0,\n",
       "  0,\n",
       "  0,\n",
       "  0,\n",
       "  0,\n",
       "  0,\n",
       "  0,\n",
       "  0,\n",
       "  0,\n",
       "  0,\n",
       "  0,\n",
       "  0,\n",
       "  0,\n",
       "  0],\n",
       " 'Recovered': [14796,\n",
       "  17,\n",
       "  29,\n",
       "  20,\n",
       "  5,\n",
       "  16,\n",
       "  17,\n",
       "  3,\n",
       "  2,\n",
       "  15,\n",
       "  14,\n",
       "  9,\n",
       "  10,\n",
       "  7,\n",
       "  5,\n",
       "  8,\n",
       "  3,\n",
       "  1,\n",
       "  2,\n",
       "  0,\n",
       "  3,\n",
       "  2,\n",
       "  2,\n",
       "  1,\n",
       "  1,\n",
       "  1,\n",
       "  1,\n",
       "  0,\n",
       "  1,\n",
       "  0],\n",
       " 'Serious': [12017,\n",
       "  20,\n",
       "  4,\n",
       "  4,\n",
       "  6,\n",
       "  0,\n",
       "  2,\n",
       "  0,\n",
       "  0,\n",
       "  0,\n",
       "  0,\n",
       "  0,\n",
       "  0,\n",
       "  0,\n",
       "  0,\n",
       "  0,\n",
       "  1,\n",
       "  0,\n",
       "  0,\n",
       "  2,\n",
       "  0,\n",
       "  0,\n",
       "  0,\n",
       "  0,\n",
       "  0,\n",
       "  0,\n",
       "  0,\n",
       "  0,\n",
       "  0,\n",
       "  0]}"
      ]
     },
     "execution_count": 6,
     "metadata": {},
     "output_type": "execute_result"
    }
   ],
   "source": [
    "#'latest' is now a dictionary, with each key as a column heading and each value is a list containing the values in the given column from each row \n",
    "latest"
   ]
  },
  {
   "cell_type": "code",
   "execution_count": 7,
   "id": "14ba6980-a92e-4445-b846-2de8fb06d90d",
   "metadata": {},
   "outputs": [
    {
     "data": {
      "text/plain": [
       "dict_keys(['Country', 'Total Cases', 'New Cases', 'Total Deaths', 'New Deaths', 'Recovered', 'Serious'])"
      ]
     },
     "execution_count": 7,
     "metadata": {},
     "output_type": "execute_result"
    }
   ],
   "source": [
    "# this shows the dictionary keys\n",
    "latest.keys()"
   ]
  },
  {
   "cell_type": "code",
   "execution_count": 8,
   "id": "289770b0-09c0-4d20-8a91-cc3c553e4a9b",
   "metadata": {},
   "outputs": [
    {
     "name": "stdout",
     "output_type": "stream",
     "text": [
      "['China', 'Diamond Princess', 'Singapore', 'Japan', 'Hong Kong', 'S. Korea', 'Thailand', 'USA', 'Taiwan', 'Malaysia', 'Vietnam', 'Germany', 'Australia', 'France', 'Macao', 'U.K.', 'U.A.E.', 'Canada', 'Philippines', 'Italy', 'India', 'Russia', 'Spain', 'Nepal', 'Belgium', 'Sri Lanka', 'Finland', 'Egypt', 'Cambodia', 'Sweden']\n"
     ]
    }
   ],
   "source": [
    "# this accesses the column and cell values\n",
    "print(latest['Country'])"
   ]
  },
  {
   "cell_type": "code",
   "execution_count": 9,
   "id": "79ec8e3f-3bbd-438d-b540-26c8a2578a8e",
   "metadata": {},
   "outputs": [
    {
     "name": "stdout",
     "output_type": "stream",
     "text": [
      "China\n",
      "74187\n",
      "2006\n",
      "14796\n"
     ]
    }
   ],
   "source": [
    "# this shows the elements at a given position in the same row\n",
    "print(latest['Country'][0])\n",
    "print(latest['Total Cases'][0])\n",
    "print(latest['Total Deaths'][0])\n",
    "print(latest['Recovered'][0])"
   ]
  },
  {
   "cell_type": "code",
   "execution_count": 10,
   "id": "34d3954e-e06e-4cb1-adc8-5564c780954b",
   "metadata": {},
   "outputs": [
    {
     "name": "stdout",
     "output_type": "stream",
     "text": [
      "Japan\n",
      "80\n",
      "1\n",
      "20\n"
     ]
    }
   ],
   "source": [
    "print(latest['Country'][3])\n",
    "print(latest['Total Cases'][3])\n",
    "print(latest['Total Deaths'][3])\n",
    "print(latest['Recovered'][3])"
   ]
  },
  {
   "cell_type": "code",
   "execution_count": 11,
   "id": "b35b22c1-7bda-4d54-a792-d141cba87b93",
   "metadata": {},
   "outputs": [],
   "source": [
    "# a function can be created to return the worldwide number of reported cases from the dictionary\n",
    "def case_count(data):  \n",
    "    total = sum(data['Total Cases'])\n",
    "    return total"
   ]
  },
  {
   "cell_type": "code",
   "execution_count": 12,
   "id": "63245e9f-6b6b-4cd0-8b72-1287bac80d3d",
   "metadata": {},
   "outputs": [
    {
     "data": {
      "text/plain": [
       "75307"
      ]
     },
     "execution_count": 12,
     "metadata": {},
     "output_type": "execute_result"
    }
   ],
   "source": [
    "case_count(latest)"
   ]
  },
  {
   "cell_type": "code",
   "execution_count": 13,
   "id": "3eeebcf0-0e3e-43b0-b9dd-9b0d95f04fca",
   "metadata": {},
   "outputs": [],
   "source": [
    "# another function can be created to return the number of countries that have reported cases\n",
    "def country_count(data):\n",
    "    countries_count = len(data['Country'])\n",
    "    return countries_count"
   ]
  },
  {
   "cell_type": "code",
   "execution_count": 14,
   "id": "7ece1969-e93e-439e-a5de-b216b4e22a0d",
   "metadata": {},
   "outputs": [
    {
     "data": {
      "text/plain": [
       "30"
      ]
     },
     "execution_count": 14,
     "metadata": {},
     "output_type": "execute_result"
    }
   ],
   "source": [
    "country_count(latest)"
   ]
  },
  {
   "cell_type": "code",
   "execution_count": 15,
   "id": "944664fb-1f88-425c-ad40-75963100f401",
   "metadata": {},
   "outputs": [],
   "source": [
    "# another function can be created to return the average number of cases over all listed countries, using the previous functions\n",
    "def average_cases(data):\n",
    "    average = case_count(data)/country_count(data)\n",
    "    return average"
   ]
  },
  {
   "cell_type": "code",
   "execution_count": 16,
   "id": "9cf8c009-cad5-4191-8731-d0fd01e1df77",
   "metadata": {},
   "outputs": [
    {
     "data": {
      "text/plain": [
       "2510.233333333333"
      ]
     },
     "execution_count": 16,
     "metadata": {},
     "output_type": "execute_result"
    }
   ],
   "source": [
    "average_cases(latest)"
   ]
  },
  {
   "cell_type": "code",
   "execution_count": 17,
   "id": "169d721f-d60c-49a3-8965-dbd9b7b7d35c",
   "metadata": {},
   "outputs": [],
   "source": [
    "# a further function can be created to return the number of countries where the 'Total cases' equals 1\n",
    "# this function involves a 'for' loop to iterate through the values, and an 'if' condition within the loop to check for cases that equal 1\n",
    "# there is then a counter to track the number of countries that match the desired criteria\n",
    "def single_case_country_count(data):\n",
    "    count = 0\n",
    "    \n",
    "    for cases_count in data['Total Cases']:\n",
    "        if cases_count == 1:\n",
    "            count = count + 1\n",
    "            \n",
    "    return (count)"
   ]
  },
  {
   "cell_type": "code",
   "execution_count": 18,
   "id": "183d4a83-cb40-47e8-bf9e-c2378459c92b",
   "metadata": {},
   "outputs": [
    {
     "data": {
      "text/plain": [
       "7"
      ]
     },
     "execution_count": 18,
     "metadata": {},
     "output_type": "execute_result"
    }
   ],
   "source": [
    "single_case_country_count(latest)"
   ]
  },
  {
   "cell_type": "code",
   "execution_count": 19,
   "id": "afc7a830-28f0-4630-9a03-7ffcda76dbdc",
   "metadata": {},
   "outputs": [],
   "source": [
    "# next, a function is created to return a list of the countries where the number of cases is equal to 1\n",
    "def single_case_countries(data):\n",
    "    countries = []\n",
    "    for country, cases in zip(data[\"Country\"], data[\"Total Cases\"]):\n",
    "        if cases == 1:\n",
    "            countries.append(country)\n",
    "    return countries"
   ]
  },
  {
   "cell_type": "code",
   "execution_count": 20,
   "id": "425b9687-39b9-49cf-bee8-162861b578ad",
   "metadata": {},
   "outputs": [
    {
     "data": {
      "text/plain": [
       "['Nepal', 'Belgium', 'Sri Lanka', 'Finland', 'Egypt', 'Cambodia', 'Sweden']"
      ]
     },
     "execution_count": 20,
     "metadata": {},
     "output_type": "execute_result"
    }
   ],
   "source": [
    "single_case_countries(latest)"
   ]
  },
  {
   "cell_type": "code",
   "execution_count": 21,
   "id": "e1a47b92-fc76-4e76-82e6-3718f2dcb1b6",
   "metadata": {},
   "outputs": [],
   "source": [
    "# the next function returns a list of countries in which there are still active cases (where Total cases minus Total Deaths exceeds Recovered)\n",
    "def active_countries(data):\n",
    "    countries = []\n",
    "    for i, country in enumerate(data['Country']):\n",
    "        if data['Total Cases'][i] - data['Total Deaths'][i] > data['Recovered'][i]:\n",
    "            countries.append(country)\n",
    "    return countries"
   ]
  },
  {
   "cell_type": "code",
   "execution_count": 22,
   "id": "2acc6544-77c3-49a8-8540-37432c7fe50b",
   "metadata": {},
   "outputs": [
    {
     "data": {
      "text/plain": [
       "['China',\n",
       " 'Diamond Princess',\n",
       " 'Singapore',\n",
       " 'Japan',\n",
       " 'Hong Kong',\n",
       " 'S. Korea',\n",
       " 'Thailand',\n",
       " 'USA',\n",
       " 'Taiwan',\n",
       " 'Malaysia',\n",
       " 'Vietnam',\n",
       " 'Germany',\n",
       " 'Australia',\n",
       " 'France',\n",
       " 'Macao',\n",
       " 'U.K.',\n",
       " 'U.A.E.',\n",
       " 'Canada',\n",
       " 'Italy',\n",
       " 'Egypt',\n",
       " 'Sweden']"
      ]
     },
     "execution_count": 22,
     "metadata": {},
     "output_type": "execute_result"
    }
   ],
   "source": [
    "active_countries(latest)"
   ]
  },
  {
   "cell_type": "code",
   "execution_count": 23,
   "id": "c70b989f-40e5-4de8-b63e-b075973f7042",
   "metadata": {},
   "outputs": [],
   "source": [
    "# the next function returns a list of countries where there are no longer any active cases (where Total Cases minus Total Deaths equals Recovered)\n",
    "def cleared_countries(data):\n",
    "    countries = []\n",
    "    for i, country in enumerate(data['Country']):\n",
    "        if data['Total Cases'][i] - data['Total Deaths'][i] == data['Recovered'][i]:\n",
    "            countries.append(country)\n",
    "    return countries"
   ]
  },
  {
   "cell_type": "code",
   "execution_count": 24,
   "id": "9d80c126-580a-4931-9488-e32ce8783de8",
   "metadata": {},
   "outputs": [
    {
     "data": {
      "text/plain": [
       "['Philippines',\n",
       " 'India',\n",
       " 'Russia',\n",
       " 'Spain',\n",
       " 'Nepal',\n",
       " 'Belgium',\n",
       " 'Sri Lanka',\n",
       " 'Finland',\n",
       " 'Cambodia']"
      ]
     },
     "execution_count": 24,
     "metadata": {},
     "output_type": "execute_result"
    }
   ],
   "source": [
    "cleared_countries(latest)"
   ]
  },
  {
   "cell_type": "code",
   "execution_count": 25,
   "id": "a83d89c4-8aaa-495c-a1ac-353aead37879",
   "metadata": {},
   "outputs": [
    {
     "data": {
      "text/html": [
       "<div>\n",
       "<style scoped>\n",
       "    .dataframe tbody tr th:only-of-type {\n",
       "        vertical-align: middle;\n",
       "    }\n",
       "\n",
       "    .dataframe tbody tr th {\n",
       "        vertical-align: top;\n",
       "    }\n",
       "\n",
       "    .dataframe thead th {\n",
       "        text-align: right;\n",
       "    }\n",
       "</style>\n",
       "<table border=\"1\" class=\"dataframe\">\n",
       "  <thead>\n",
       "    <tr style=\"text-align: right;\">\n",
       "      <th></th>\n",
       "      <th>iso_code</th>\n",
       "      <th>continent</th>\n",
       "      <th>location</th>\n",
       "      <th>date</th>\n",
       "      <th>total_cases</th>\n",
       "      <th>new_cases</th>\n",
       "      <th>total_deaths</th>\n",
       "      <th>new_deaths</th>\n",
       "      <th>total_cases_per_million</th>\n",
       "      <th>new_cases_per_million</th>\n",
       "      <th>...</th>\n",
       "      <th>aged_70_older</th>\n",
       "      <th>gdp_per_capita</th>\n",
       "      <th>extreme_poverty</th>\n",
       "      <th>cvd_death_rate</th>\n",
       "      <th>diabetes_prevalence</th>\n",
       "      <th>female_smokers</th>\n",
       "      <th>male_smokers</th>\n",
       "      <th>handwashing_facilities</th>\n",
       "      <th>hospital_beds_per_thousand</th>\n",
       "      <th>life_expectancy</th>\n",
       "    </tr>\n",
       "  </thead>\n",
       "  <tbody>\n",
       "    <tr>\n",
       "      <th>173</th>\n",
       "      <td>AFG</td>\n",
       "      <td>Asia</td>\n",
       "      <td>Afghanistan</td>\n",
       "      <td>2020-07-01</td>\n",
       "      <td>31517.0</td>\n",
       "      <td>279.0</td>\n",
       "      <td>746.0</td>\n",
       "      <td>13.0</td>\n",
       "      <td>809.616</td>\n",
       "      <td>7.167</td>\n",
       "      <td>...</td>\n",
       "      <td>1.337</td>\n",
       "      <td>1803.987</td>\n",
       "      <td>NaN</td>\n",
       "      <td>597.029</td>\n",
       "      <td>9.59</td>\n",
       "      <td>NaN</td>\n",
       "      <td>NaN</td>\n",
       "      <td>37.746</td>\n",
       "      <td>0.50</td>\n",
       "      <td>64.83</td>\n",
       "    </tr>\n",
       "    <tr>\n",
       "      <th>300</th>\n",
       "      <td>ALB</td>\n",
       "      <td>Europe</td>\n",
       "      <td>Albania</td>\n",
       "      <td>2020-07-01</td>\n",
       "      <td>2535.0</td>\n",
       "      <td>69.0</td>\n",
       "      <td>62.0</td>\n",
       "      <td>4.0</td>\n",
       "      <td>880.881</td>\n",
       "      <td>23.977</td>\n",
       "      <td>...</td>\n",
       "      <td>8.643</td>\n",
       "      <td>11803.431</td>\n",
       "      <td>1.1</td>\n",
       "      <td>304.195</td>\n",
       "      <td>10.08</td>\n",
       "      <td>7.1</td>\n",
       "      <td>51.2</td>\n",
       "      <td>NaN</td>\n",
       "      <td>2.89</td>\n",
       "      <td>78.57</td>\n",
       "    </tr>\n",
       "    <tr>\n",
       "      <th>491</th>\n",
       "      <td>DZA</td>\n",
       "      <td>Africa</td>\n",
       "      <td>Algeria</td>\n",
       "      <td>2020-07-01</td>\n",
       "      <td>13907.0</td>\n",
       "      <td>336.0</td>\n",
       "      <td>912.0</td>\n",
       "      <td>7.0</td>\n",
       "      <td>317.142</td>\n",
       "      <td>7.662</td>\n",
       "      <td>...</td>\n",
       "      <td>3.857</td>\n",
       "      <td>13913.839</td>\n",
       "      <td>0.5</td>\n",
       "      <td>278.364</td>\n",
       "      <td>6.73</td>\n",
       "      <td>0.7</td>\n",
       "      <td>30.4</td>\n",
       "      <td>83.741</td>\n",
       "      <td>1.90</td>\n",
       "      <td>76.88</td>\n",
       "    </tr>\n",
       "    <tr>\n",
       "      <th>613</th>\n",
       "      <td>AND</td>\n",
       "      <td>Europe</td>\n",
       "      <td>Andorra</td>\n",
       "      <td>2020-07-01</td>\n",
       "      <td>855.0</td>\n",
       "      <td>0.0</td>\n",
       "      <td>52.0</td>\n",
       "      <td>0.0</td>\n",
       "      <td>11065.812</td>\n",
       "      <td>0.000</td>\n",
       "      <td>...</td>\n",
       "      <td>NaN</td>\n",
       "      <td>NaN</td>\n",
       "      <td>NaN</td>\n",
       "      <td>109.135</td>\n",
       "      <td>7.97</td>\n",
       "      <td>29.0</td>\n",
       "      <td>37.8</td>\n",
       "      <td>NaN</td>\n",
       "      <td>NaN</td>\n",
       "      <td>83.73</td>\n",
       "    </tr>\n",
       "    <tr>\n",
       "      <th>727</th>\n",
       "      <td>AGO</td>\n",
       "      <td>Africa</td>\n",
       "      <td>Angola</td>\n",
       "      <td>2020-07-01</td>\n",
       "      <td>284.0</td>\n",
       "      <td>8.0</td>\n",
       "      <td>13.0</td>\n",
       "      <td>2.0</td>\n",
       "      <td>8.641</td>\n",
       "      <td>0.243</td>\n",
       "      <td>...</td>\n",
       "      <td>1.362</td>\n",
       "      <td>5819.495</td>\n",
       "      <td>NaN</td>\n",
       "      <td>276.045</td>\n",
       "      <td>3.94</td>\n",
       "      <td>NaN</td>\n",
       "      <td>NaN</td>\n",
       "      <td>26.664</td>\n",
       "      <td>NaN</td>\n",
       "      <td>61.15</td>\n",
       "    </tr>\n",
       "  </tbody>\n",
       "</table>\n",
       "<p>5 rows × 34 columns</p>\n",
       "</div>"
      ],
      "text/plain": [
       "    iso_code continent     location       date  total_cases  new_cases  \\\n",
       "173      AFG      Asia  Afghanistan 2020-07-01      31517.0      279.0   \n",
       "300      ALB    Europe      Albania 2020-07-01       2535.0       69.0   \n",
       "491      DZA    Africa      Algeria 2020-07-01      13907.0      336.0   \n",
       "613      AND    Europe      Andorra 2020-07-01        855.0        0.0   \n",
       "727      AGO    Africa       Angola 2020-07-01        284.0        8.0   \n",
       "\n",
       "     total_deaths  new_deaths  total_cases_per_million  new_cases_per_million  \\\n",
       "173         746.0        13.0                  809.616                  7.167   \n",
       "300          62.0         4.0                  880.881                 23.977   \n",
       "491         912.0         7.0                  317.142                  7.662   \n",
       "613          52.0         0.0                11065.812                  0.000   \n",
       "727          13.0         2.0                    8.641                  0.243   \n",
       "\n",
       "     ...  aged_70_older  gdp_per_capita  extreme_poverty  cvd_death_rate  \\\n",
       "173  ...          1.337        1803.987              NaN         597.029   \n",
       "300  ...          8.643       11803.431              1.1         304.195   \n",
       "491  ...          3.857       13913.839              0.5         278.364   \n",
       "613  ...            NaN             NaN              NaN         109.135   \n",
       "727  ...          1.362        5819.495              NaN         276.045   \n",
       "\n",
       "     diabetes_prevalence  female_smokers  male_smokers  \\\n",
       "173                 9.59             NaN           NaN   \n",
       "300                10.08             7.1          51.2   \n",
       "491                 6.73             0.7          30.4   \n",
       "613                 7.97            29.0          37.8   \n",
       "727                 3.94             NaN           NaN   \n",
       "\n",
       "     handwashing_facilities hospital_beds_per_thousand  life_expectancy  \n",
       "173                  37.746                       0.50            64.83  \n",
       "300                     NaN                       2.89            78.57  \n",
       "491                  83.741                       1.90            76.88  \n",
       "613                     NaN                        NaN            83.73  \n",
       "727                  26.664                        NaN            61.15  \n",
       "\n",
       "[5 rows x 34 columns]"
      ]
     },
     "execution_count": 25,
     "metadata": {},
     "output_type": "execute_result"
    }
   ],
   "source": [
    "# Next, I'll upload some more Covid data, and specifically create a df for only 1st July 2020\n",
    "\n",
    "data = pd.read_csv('C:/Users/phpunsal/Documents/Data_Analytics/Corona_Virus_Data/world_data/owid-covid-data.csv')\n",
    "data['date'] = pd.to_datetime(data['date'])\n",
    "df = data[data['date'] == '2020-07-01']\n",
    "\n",
    "df.head()"
   ]
  },
  {
   "cell_type": "code",
   "execution_count": 30,
   "id": "b5b389d0-f5ea-4009-b1a7-e7e73afb0b4d",
   "metadata": {},
   "outputs": [
    {
     "data": {
      "text/html": [
       "<div>\n",
       "<style scoped>\n",
       "    .dataframe tbody tr th:only-of-type {\n",
       "        vertical-align: middle;\n",
       "    }\n",
       "\n",
       "    .dataframe tbody tr th {\n",
       "        vertical-align: top;\n",
       "    }\n",
       "\n",
       "    .dataframe thead th {\n",
       "        text-align: right;\n",
       "    }\n",
       "</style>\n",
       "<table border=\"1\" class=\"dataframe\">\n",
       "  <thead>\n",
       "    <tr style=\"text-align: right;\">\n",
       "      <th></th>\n",
       "      <th>iso_code</th>\n",
       "      <th>continent</th>\n",
       "      <th>location</th>\n",
       "      <th>date</th>\n",
       "      <th>total_cases</th>\n",
       "      <th>new_cases</th>\n",
       "      <th>total_deaths</th>\n",
       "      <th>new_deaths</th>\n",
       "      <th>total_cases_per_million</th>\n",
       "      <th>new_cases_per_million</th>\n",
       "      <th>...</th>\n",
       "      <th>aged_70_older</th>\n",
       "      <th>gdp_per_capita</th>\n",
       "      <th>extreme_poverty</th>\n",
       "      <th>cvd_death_rate</th>\n",
       "      <th>diabetes_prevalence</th>\n",
       "      <th>female_smokers</th>\n",
       "      <th>male_smokers</th>\n",
       "      <th>handwashing_facilities</th>\n",
       "      <th>hospital_beds_per_thousand</th>\n",
       "      <th>life_expectancy</th>\n",
       "    </tr>\n",
       "  </thead>\n",
       "  <tbody>\n",
       "    <tr>\n",
       "      <th>29411</th>\n",
       "      <td>ESH</td>\n",
       "      <td>Africa</td>\n",
       "      <td>Western Sahara</td>\n",
       "      <td>2020-07-01</td>\n",
       "      <td>380.0</td>\n",
       "      <td>172.0</td>\n",
       "      <td>1.0</td>\n",
       "      <td>0.0</td>\n",
       "      <td>636.164</td>\n",
       "      <td>287.948</td>\n",
       "      <td>...</td>\n",
       "      <td>1.380</td>\n",
       "      <td>NaN</td>\n",
       "      <td>NaN</td>\n",
       "      <td>NaN</td>\n",
       "      <td>NaN</td>\n",
       "      <td>NaN</td>\n",
       "      <td>NaN</td>\n",
       "      <td>NaN</td>\n",
       "      <td>NaN</td>\n",
       "      <td>70.26</td>\n",
       "    </tr>\n",
       "    <tr>\n",
       "      <th>29506</th>\n",
       "      <td>YEM</td>\n",
       "      <td>Asia</td>\n",
       "      <td>Yemen</td>\n",
       "      <td>2020-07-01</td>\n",
       "      <td>1158.0</td>\n",
       "      <td>30.0</td>\n",
       "      <td>312.0</td>\n",
       "      <td>8.0</td>\n",
       "      <td>38.825</td>\n",
       "      <td>1.006</td>\n",
       "      <td>...</td>\n",
       "      <td>1.583</td>\n",
       "      <td>1479.147</td>\n",
       "      <td>18.8</td>\n",
       "      <td>495.003</td>\n",
       "      <td>5.35</td>\n",
       "      <td>7.600</td>\n",
       "      <td>29.200</td>\n",
       "      <td>49.542</td>\n",
       "      <td>0.700</td>\n",
       "      <td>66.12</td>\n",
       "    </tr>\n",
       "    <tr>\n",
       "      <th>29623</th>\n",
       "      <td>ZMB</td>\n",
       "      <td>Africa</td>\n",
       "      <td>Zambia</td>\n",
       "      <td>2020-07-01</td>\n",
       "      <td>1594.0</td>\n",
       "      <td>26.0</td>\n",
       "      <td>24.0</td>\n",
       "      <td>2.0</td>\n",
       "      <td>86.706</td>\n",
       "      <td>1.414</td>\n",
       "      <td>...</td>\n",
       "      <td>1.542</td>\n",
       "      <td>3689.251</td>\n",
       "      <td>57.5</td>\n",
       "      <td>234.499</td>\n",
       "      <td>3.94</td>\n",
       "      <td>3.100</td>\n",
       "      <td>24.700</td>\n",
       "      <td>13.938</td>\n",
       "      <td>2.000</td>\n",
       "      <td>63.89</td>\n",
       "    </tr>\n",
       "    <tr>\n",
       "      <th>29738</th>\n",
       "      <td>ZWE</td>\n",
       "      <td>Africa</td>\n",
       "      <td>Zimbabwe</td>\n",
       "      <td>2020-07-01</td>\n",
       "      <td>591.0</td>\n",
       "      <td>17.0</td>\n",
       "      <td>7.0</td>\n",
       "      <td>0.0</td>\n",
       "      <td>39.763</td>\n",
       "      <td>1.144</td>\n",
       "      <td>...</td>\n",
       "      <td>1.882</td>\n",
       "      <td>1899.775</td>\n",
       "      <td>21.4</td>\n",
       "      <td>307.846</td>\n",
       "      <td>1.82</td>\n",
       "      <td>1.600</td>\n",
       "      <td>30.700</td>\n",
       "      <td>36.791</td>\n",
       "      <td>1.700</td>\n",
       "      <td>61.49</td>\n",
       "    </tr>\n",
       "    <tr>\n",
       "      <th>29934</th>\n",
       "      <td>OWID_WRL</td>\n",
       "      <td>NaN</td>\n",
       "      <td>World</td>\n",
       "      <td>2020-07-01</td>\n",
       "      <td>10465987.0</td>\n",
       "      <td>192563.0</td>\n",
       "      <td>511041.0</td>\n",
       "      <td>5732.0</td>\n",
       "      <td>1342.689</td>\n",
       "      <td>24.704</td>\n",
       "      <td>...</td>\n",
       "      <td>5.355</td>\n",
       "      <td>15469.207</td>\n",
       "      <td>10.0</td>\n",
       "      <td>233.070</td>\n",
       "      <td>8.51</td>\n",
       "      <td>6.434</td>\n",
       "      <td>34.635</td>\n",
       "      <td>60.130</td>\n",
       "      <td>2.705</td>\n",
       "      <td>72.58</td>\n",
       "    </tr>\n",
       "  </tbody>\n",
       "</table>\n",
       "<p>5 rows × 34 columns</p>\n",
       "</div>"
      ],
      "text/plain": [
       "       iso_code continent        location       date  total_cases  new_cases  \\\n",
       "29411       ESH    Africa  Western Sahara 2020-07-01        380.0      172.0   \n",
       "29506       YEM      Asia           Yemen 2020-07-01       1158.0       30.0   \n",
       "29623       ZMB    Africa          Zambia 2020-07-01       1594.0       26.0   \n",
       "29738       ZWE    Africa        Zimbabwe 2020-07-01        591.0       17.0   \n",
       "29934  OWID_WRL       NaN           World 2020-07-01   10465987.0   192563.0   \n",
       "\n",
       "       total_deaths  new_deaths  total_cases_per_million  \\\n",
       "29411           1.0         0.0                  636.164   \n",
       "29506         312.0         8.0                   38.825   \n",
       "29623          24.0         2.0                   86.706   \n",
       "29738           7.0         0.0                   39.763   \n",
       "29934      511041.0      5732.0                 1342.689   \n",
       "\n",
       "       new_cases_per_million  ...  aged_70_older  gdp_per_capita  \\\n",
       "29411                287.948  ...          1.380             NaN   \n",
       "29506                  1.006  ...          1.583        1479.147   \n",
       "29623                  1.414  ...          1.542        3689.251   \n",
       "29738                  1.144  ...          1.882        1899.775   \n",
       "29934                 24.704  ...          5.355       15469.207   \n",
       "\n",
       "       extreme_poverty  cvd_death_rate  diabetes_prevalence  female_smokers  \\\n",
       "29411              NaN             NaN                  NaN             NaN   \n",
       "29506             18.8         495.003                 5.35           7.600   \n",
       "29623             57.5         234.499                 3.94           3.100   \n",
       "29738             21.4         307.846                 1.82           1.600   \n",
       "29934             10.0         233.070                 8.51           6.434   \n",
       "\n",
       "       male_smokers  handwashing_facilities hospital_beds_per_thousand  \\\n",
       "29411           NaN                     NaN                        NaN   \n",
       "29506        29.200                  49.542                      0.700   \n",
       "29623        24.700                  13.938                      2.000   \n",
       "29738        30.700                  36.791                      1.700   \n",
       "29934        34.635                  60.130                      2.705   \n",
       "\n",
       "       life_expectancy  \n",
       "29411            70.26  \n",
       "29506            66.12  \n",
       "29623            63.89  \n",
       "29738            61.49  \n",
       "29934            72.58  \n",
       "\n",
       "[5 rows x 34 columns]"
      ]
     },
     "execution_count": 30,
     "metadata": {},
     "output_type": "execute_result"
    }
   ],
   "source": [
    "df.tail()"
   ]
  },
  {
   "cell_type": "code",
   "execution_count": 31,
   "id": "6c2e44c0-6ba4-4d02-bde2-e62a420c27b6",
   "metadata": {},
   "outputs": [
    {
     "name": "stdout",
     "output_type": "stream",
     "text": [
      "<class 'pandas.core.frame.DataFrame'>\n",
      "Index: 211 entries, 173 to 29934\n",
      "Data columns (total 34 columns):\n",
      " #   Column                           Non-Null Count  Dtype         \n",
      "---  ------                           --------------  -----         \n",
      " 0   iso_code                         211 non-null    object        \n",
      " 1   continent                        210 non-null    object        \n",
      " 2   location                         211 non-null    object        \n",
      " 3   date                             211 non-null    datetime64[ns]\n",
      " 4   total_cases                      210 non-null    float64       \n",
      " 5   new_cases                        210 non-null    float64       \n",
      " 6   total_deaths                     210 non-null    float64       \n",
      " 7   new_deaths                       210 non-null    float64       \n",
      " 8   total_cases_per_million          210 non-null    float64       \n",
      " 9   new_cases_per_million            210 non-null    float64       \n",
      " 10  total_deaths_per_million         210 non-null    float64       \n",
      " 11  new_deaths_per_million           210 non-null    float64       \n",
      " 12  total_tests                      73 non-null     float64       \n",
      " 13  new_tests                        73 non-null     float64       \n",
      " 14  total_tests_per_thousand         73 non-null     float64       \n",
      " 15  new_tests_per_thousand           73 non-null     float64       \n",
      " 16  new_tests_smoothed               83 non-null     float64       \n",
      " 17  new_tests_smoothed_per_thousand  83 non-null     float64       \n",
      " 18  tests_units                      85 non-null     object        \n",
      " 19  stringency_index                 155 non-null    float64       \n",
      " 20  population                       211 non-null    float64       \n",
      " 21  population_density               200 non-null    float64       \n",
      " 22  median_age                       187 non-null    float64       \n",
      " 23  aged_65_older                    184 non-null    float64       \n",
      " 24  aged_70_older                    186 non-null    float64       \n",
      " 25  gdp_per_capita                   184 non-null    float64       \n",
      " 26  extreme_poverty                  122 non-null    float64       \n",
      " 27  cvd_death_rate                   186 non-null    float64       \n",
      " 28  diabetes_prevalence              194 non-null    float64       \n",
      " 29  female_smokers                   141 non-null    float64       \n",
      " 30  male_smokers                     139 non-null    float64       \n",
      " 31  handwashing_facilities           92 non-null     float64       \n",
      " 32  hospital_beds_per_thousand       165 non-null    float64       \n",
      " 33  life_expectancy                  208 non-null    float64       \n",
      "dtypes: datetime64[ns](1), float64(29), object(4)\n",
      "memory usage: 57.7+ KB\n"
     ]
    }
   ],
   "source": [
    "\n",
    "df.info()"
   ]
  },
  {
   "cell_type": "code",
   "execution_count": 32,
   "id": "8b4f374e-a6bf-4b1f-accb-2ea09d33b99d",
   "metadata": {},
   "outputs": [
    {
     "data": {
      "text/plain": [
       "(211, 34)"
      ]
     },
     "execution_count": 32,
     "metadata": {},
     "output_type": "execute_result"
    }
   ],
   "source": [
    "df.shape"
   ]
  },
  {
   "cell_type": "code",
   "execution_count": 34,
   "id": "fc3c9463-f663-4988-82d0-db09bf1b4c93",
   "metadata": {},
   "outputs": [],
   "source": [
    "# the last row is for World, so this will have to be removed in a new df called Countries\n",
    "countries = df.copy()\n",
    "countries = countries[countries['location']!='World']\n"
   ]
  },
  {
   "cell_type": "code",
   "execution_count": 35,
   "id": "57bab902-180a-4e5e-b79b-26ca20b8d559",
   "metadata": {},
   "outputs": [
    {
     "name": "stdout",
     "output_type": "stream",
     "text": [
      "(211, 34) (210, 34)\n"
     ]
    }
   ],
   "source": [
    "# comparing the shapes, it can be seen that the 1 row containing World was removed\n",
    "print(df.shape, countries.shape)"
   ]
  },
  {
   "cell_type": "code",
   "execution_count": 36,
   "id": "bb0a3ac6-3ddd-4e3a-a66c-e71ed81b2fb7",
   "metadata": {},
   "outputs": [
    {
     "data": {
      "text/html": [
       "<div>\n",
       "<style scoped>\n",
       "    .dataframe tbody tr th:only-of-type {\n",
       "        vertical-align: middle;\n",
       "    }\n",
       "\n",
       "    .dataframe tbody tr th {\n",
       "        vertical-align: top;\n",
       "    }\n",
       "\n",
       "    .dataframe thead th {\n",
       "        text-align: right;\n",
       "    }\n",
       "</style>\n",
       "<table border=\"1\" class=\"dataframe\">\n",
       "  <thead>\n",
       "    <tr style=\"text-align: right;\">\n",
       "      <th></th>\n",
       "      <th>continent</th>\n",
       "      <th>location</th>\n",
       "      <th>total_deaths_per_million</th>\n",
       "    </tr>\n",
       "  </thead>\n",
       "  <tbody>\n",
       "    <tr>\n",
       "      <th>23306</th>\n",
       "      <td>Europe</td>\n",
       "      <td>San Marino</td>\n",
       "      <td>1237.551</td>\n",
       "    </tr>\n",
       "    <tr>\n",
       "      <th>2917</th>\n",
       "      <td>Europe</td>\n",
       "      <td>Belgium</td>\n",
       "      <td>841.615</td>\n",
       "    </tr>\n",
       "    <tr>\n",
       "      <th>613</th>\n",
       "      <td>Europe</td>\n",
       "      <td>Andorra</td>\n",
       "      <td>673.008</td>\n",
       "    </tr>\n",
       "    <tr>\n",
       "      <th>28347</th>\n",
       "      <td>Europe</td>\n",
       "      <td>United Kingdom</td>\n",
       "      <td>644.168</td>\n",
       "    </tr>\n",
       "    <tr>\n",
       "      <th>25362</th>\n",
       "      <td>Europe</td>\n",
       "      <td>Spain</td>\n",
       "      <td>606.633</td>\n",
       "    </tr>\n",
       "    <tr>\n",
       "      <th>...</th>\n",
       "      <td>...</td>\n",
       "      <td>...</td>\n",
       "      <td>...</td>\n",
       "    </tr>\n",
       "    <tr>\n",
       "      <th>23111</th>\n",
       "      <td>North America</td>\n",
       "      <td>Saint Vincent and the Grenadines</td>\n",
       "      <td>0.000</td>\n",
       "    </tr>\n",
       "    <tr>\n",
       "      <th>23926</th>\n",
       "      <td>Africa</td>\n",
       "      <td>Seychelles</td>\n",
       "      <td>0.000</td>\n",
       "    </tr>\n",
       "    <tr>\n",
       "      <th>15734</th>\n",
       "      <td>Africa</td>\n",
       "      <td>Lesotho</td>\n",
       "      <td>0.000</td>\n",
       "    </tr>\n",
       "    <tr>\n",
       "      <th>10808</th>\n",
       "      <td>Europe</td>\n",
       "      <td>Gibraltar</td>\n",
       "      <td>0.000</td>\n",
       "    </tr>\n",
       "    <tr>\n",
       "      <th>12195</th>\n",
       "      <td>Asia</td>\n",
       "      <td>Hong Kong</td>\n",
       "      <td>NaN</td>\n",
       "    </tr>\n",
       "  </tbody>\n",
       "</table>\n",
       "<p>210 rows × 3 columns</p>\n",
       "</div>"
      ],
      "text/plain": [
       "           continent                          location  \\\n",
       "23306         Europe                        San Marino   \n",
       "2917          Europe                           Belgium   \n",
       "613           Europe                           Andorra   \n",
       "28347         Europe                    United Kingdom   \n",
       "25362         Europe                             Spain   \n",
       "...              ...                               ...   \n",
       "23111  North America  Saint Vincent and the Grenadines   \n",
       "23926         Africa                        Seychelles   \n",
       "15734         Africa                           Lesotho   \n",
       "10808         Europe                         Gibraltar   \n",
       "12195           Asia                         Hong Kong   \n",
       "\n",
       "       total_deaths_per_million  \n",
       "23306                  1237.551  \n",
       "2917                    841.615  \n",
       "613                     673.008  \n",
       "28347                   644.168  \n",
       "25362                   606.633  \n",
       "...                         ...  \n",
       "23111                     0.000  \n",
       "23926                     0.000  \n",
       "15734                     0.000  \n",
       "10808                     0.000  \n",
       "12195                       NaN  \n",
       "\n",
       "[210 rows x 3 columns]"
      ]
     },
     "execution_count": 36,
     "metadata": {},
     "output_type": "execute_result"
    }
   ],
   "source": [
    "# a new df based on the countries df is created, with only 3 columns and ordered by 'total_death_per_million'\n",
    "cols = ['continent', 'location', 'total_deaths_per_million']\n",
    "\n",
    "countries_dr = countries.copy()\n",
    "countries_dr = countries_dr[cols].sort_values(by='total_deaths_per_million', ascending=False)\n",
    "\n",
    "countries_dr\n"
   ]
  },
  {
   "cell_type": "code",
   "execution_count": 37,
   "id": "dc676ad8-08a2-4493-a0a6-8b02a12ea904",
   "metadata": {},
   "outputs": [
    {
     "data": {
      "text/plain": [
       "3445134"
      ]
     },
     "execution_count": 37,
     "metadata": {},
     "output_type": "execute_result"
    }
   ],
   "source": [
    "# using the countries df, i can find the sum of the total tests for countries in the continent of Africa and convert the result into an integer\n",
    "africa_tests = countries[countries['continent']=='Africa']['total_tests'].sum().astype(int)\n",
    "africa_tests"
   ]
  },
  {
   "cell_type": "code",
   "execution_count": 38,
   "id": "4734371f-69fe-4c21-8ebf-a67b7b673a92",
   "metadata": {},
   "outputs": [
    {
     "data": {
      "text/plain": [
       "45"
      ]
     },
     "execution_count": 38,
     "metadata": {},
     "output_type": "execute_result"
    }
   ],
   "source": [
    "# i can then find how many countries in Africa have no value recorded for total tests\n",
    "africa_missing_test_data = countries[countries['continent']=='Africa']['total_tests'].isna().sum()\n",
    "africa_missing_test_data"
   ]
  },
  {
   "cell_type": "code",
   "execution_count": 39,
   "id": "af3d254d-ba17-4728-b53a-d4d2523107a8",
   "metadata": {},
   "outputs": [
    {
     "data": {
      "text/plain": [
       "3"
      ]
     },
     "execution_count": 39,
     "metadata": {},
     "output_type": "execute_result"
    }
   ],
   "source": [
    "# next,i can find how many countries have a higher value for total tests than the UK\n",
    "uk_tests = countries[countries['location']=='United Kingdom']['total_tests'].values[0]\n",
    "countries_more_tests = len(countries[countries['total_tests']>uk_tests])\n",
    "countries_more_tests"
   ]
  },
  {
   "cell_type": "code",
   "execution_count": 41,
   "id": "4854c339-1c49-4525-b0a3-a1aa8c34acc8",
   "metadata": {},
   "outputs": [
    {
     "data": {
      "text/html": [
       "<div>\n",
       "<style scoped>\n",
       "    .dataframe tbody tr th:only-of-type {\n",
       "        vertical-align: middle;\n",
       "    }\n",
       "\n",
       "    .dataframe tbody tr th {\n",
       "        vertical-align: top;\n",
       "    }\n",
       "\n",
       "    .dataframe thead th {\n",
       "        text-align: right;\n",
       "    }\n",
       "</style>\n",
       "<table border=\"1\" class=\"dataframe\">\n",
       "  <thead>\n",
       "    <tr style=\"text-align: right;\">\n",
       "      <th></th>\n",
       "      <th>hospital_beds_per_thousand</th>\n",
       "      <th>total_deaths_per_million</th>\n",
       "    </tr>\n",
       "  </thead>\n",
       "  <tbody>\n",
       "    <tr>\n",
       "      <th>173</th>\n",
       "      <td>0.50</td>\n",
       "      <td>19.163</td>\n",
       "    </tr>\n",
       "    <tr>\n",
       "      <th>300</th>\n",
       "      <td>2.89</td>\n",
       "      <td>21.544</td>\n",
       "    </tr>\n",
       "    <tr>\n",
       "      <th>491</th>\n",
       "      <td>1.90</td>\n",
       "      <td>20.798</td>\n",
       "    </tr>\n",
       "    <tr>\n",
       "      <th>952</th>\n",
       "      <td>3.80</td>\n",
       "      <td>30.635</td>\n",
       "    </tr>\n",
       "    <tr>\n",
       "      <th>1081</th>\n",
       "      <td>5.00</td>\n",
       "      <td>28.919</td>\n",
       "    </tr>\n",
       "  </tbody>\n",
       "</table>\n",
       "</div>"
      ],
      "text/plain": [
       "      hospital_beds_per_thousand  total_deaths_per_million\n",
       "173                         0.50                    19.163\n",
       "300                         2.89                    21.544\n",
       "491                         1.90                    20.798\n",
       "952                         3.80                    30.635\n",
       "1081                        5.00                    28.919"
      ]
     },
     "execution_count": 41,
     "metadata": {},
     "output_type": "execute_result"
    }
   ],
   "source": [
    "# then a new df is created, based on the countries df but with only 2 columns\n",
    "cols2 = ['hospital_beds_per_thousand', 'total_deaths_per_million']\n",
    "beds_dr = countries.copy()\n",
    "beds_dr = beds_dr[cols2].dropna()\n",
    "beds_dr.head()"
   ]
  },
  {
   "cell_type": "code",
   "execution_count": 43,
   "id": "01a72694-6002-4d64-b2e0-474729b2b05f",
   "metadata": {},
   "outputs": [
    {
     "data": {
      "text/plain": [
       "98.18423728813559"
      ]
     },
     "execution_count": 43,
     "metadata": {},
     "output_type": "execute_result"
    }
   ],
   "source": [
    "# the beds_dr df is then used to identify the average total_deaths_per_million for entries where hospital_beds_per_thousand is greater than the mean\n",
    "mean_beds = beds_dr['hospital_beds_per_thousand'].mean()\n",
    "\n",
    "dr_high_bed_ratio = beds_dr[beds_dr['hospital_beds_per_thousand']>mean_beds]['total_deaths_per_million'].mean()\n",
    "dr_high_bed_ratio"
   ]
  },
  {
   "cell_type": "code",
   "execution_count": 44,
   "id": "0b22c716-33ad-4356-ae70-259722ea7a2a",
   "metadata": {},
   "outputs": [
    {
     "data": {
      "text/plain": [
       "56.294057142857135"
      ]
     },
     "execution_count": 44,
     "metadata": {},
     "output_type": "execute_result"
    }
   ],
   "source": [
    "# as above, i can identify the same for entries where hospital_beds_per_thousand is lower than the mean\n",
    "dr_low_bed_ratio = beds_dr[beds_dr['hospital_beds_per_thousand']<mean_beds]['total_deaths_per_million'].mean()\n",
    "dr_low_bed_ratio"
   ]
  },
  {
   "cell_type": "code",
   "execution_count": 45,
   "id": "68153987-30e1-426b-97fe-301edf1c4ea6",
   "metadata": {},
   "outputs": [
    {
     "data": {
      "text/html": [
       "<div>\n",
       "<style scoped>\n",
       "    .dataframe tbody tr th:only-of-type {\n",
       "        vertical-align: middle;\n",
       "    }\n",
       "\n",
       "    .dataframe tbody tr th {\n",
       "        vertical-align: top;\n",
       "    }\n",
       "\n",
       "    .dataframe thead th {\n",
       "        text-align: right;\n",
       "    }\n",
       "</style>\n",
       "<table border=\"1\" class=\"dataframe\">\n",
       "  <thead>\n",
       "    <tr style=\"text-align: right;\">\n",
       "      <th></th>\n",
       "      <th>iso_code</th>\n",
       "      <th>continent</th>\n",
       "      <th>location</th>\n",
       "      <th>date</th>\n",
       "      <th>total_cases</th>\n",
       "      <th>new_cases</th>\n",
       "      <th>total_deaths</th>\n",
       "      <th>new_deaths</th>\n",
       "      <th>total_cases_per_million</th>\n",
       "      <th>new_cases_per_million</th>\n",
       "      <th>...</th>\n",
       "      <th>aged_70_older</th>\n",
       "      <th>gdp_per_capita</th>\n",
       "      <th>extreme_poverty</th>\n",
       "      <th>cvd_death_rate</th>\n",
       "      <th>diabetes_prevalence</th>\n",
       "      <th>female_smokers</th>\n",
       "      <th>male_smokers</th>\n",
       "      <th>handwashing_facilities</th>\n",
       "      <th>hospital_beds_per_thousand</th>\n",
       "      <th>life_expectancy</th>\n",
       "    </tr>\n",
       "  </thead>\n",
       "  <tbody>\n",
       "    <tr>\n",
       "      <th>613</th>\n",
       "      <td>AND</td>\n",
       "      <td>Europe</td>\n",
       "      <td>Andorra</td>\n",
       "      <td>2020-07-01</td>\n",
       "      <td>855.0</td>\n",
       "      <td>0.0</td>\n",
       "      <td>52.0</td>\n",
       "      <td>0.0</td>\n",
       "      <td>11065.812</td>\n",
       "      <td>0.0</td>\n",
       "      <td>...</td>\n",
       "      <td>NaN</td>\n",
       "      <td>NaN</td>\n",
       "      <td>NaN</td>\n",
       "      <td>109.135</td>\n",
       "      <td>7.97</td>\n",
       "      <td>29.0</td>\n",
       "      <td>37.8</td>\n",
       "      <td>NaN</td>\n",
       "      <td>NaN</td>\n",
       "      <td>83.73</td>\n",
       "    </tr>\n",
       "    <tr>\n",
       "      <th>836</th>\n",
       "      <td>AIA</td>\n",
       "      <td>North America</td>\n",
       "      <td>Anguilla</td>\n",
       "      <td>2020-07-01</td>\n",
       "      <td>3.0</td>\n",
       "      <td>0.0</td>\n",
       "      <td>0.0</td>\n",
       "      <td>0.0</td>\n",
       "      <td>199.973</td>\n",
       "      <td>0.0</td>\n",
       "      <td>...</td>\n",
       "      <td>NaN</td>\n",
       "      <td>NaN</td>\n",
       "      <td>NaN</td>\n",
       "      <td>NaN</td>\n",
       "      <td>NaN</td>\n",
       "      <td>NaN</td>\n",
       "      <td>NaN</td>\n",
       "      <td>NaN</td>\n",
       "      <td>NaN</td>\n",
       "      <td>81.88</td>\n",
       "    </tr>\n",
       "    <tr>\n",
       "      <th>952</th>\n",
       "      <td>ATG</td>\n",
       "      <td>North America</td>\n",
       "      <td>Antigua and Barbuda</td>\n",
       "      <td>2020-07-01</td>\n",
       "      <td>66.0</td>\n",
       "      <td>0.0</td>\n",
       "      <td>3.0</td>\n",
       "      <td>0.0</td>\n",
       "      <td>673.965</td>\n",
       "      <td>0.0</td>\n",
       "      <td>...</td>\n",
       "      <td>4.631</td>\n",
       "      <td>21490.943</td>\n",
       "      <td>NaN</td>\n",
       "      <td>191.511</td>\n",
       "      <td>13.17</td>\n",
       "      <td>NaN</td>\n",
       "      <td>NaN</td>\n",
       "      <td>NaN</td>\n",
       "      <td>3.8</td>\n",
       "      <td>77.02</td>\n",
       "    </tr>\n",
       "    <tr>\n",
       "      <th>1381</th>\n",
       "      <td>ABW</td>\n",
       "      <td>North America</td>\n",
       "      <td>Aruba</td>\n",
       "      <td>2020-07-01</td>\n",
       "      <td>103.0</td>\n",
       "      <td>0.0</td>\n",
       "      <td>3.0</td>\n",
       "      <td>0.0</td>\n",
       "      <td>964.727</td>\n",
       "      <td>0.0</td>\n",
       "      <td>...</td>\n",
       "      <td>7.452</td>\n",
       "      <td>35973.781</td>\n",
       "      <td>NaN</td>\n",
       "      <td>NaN</td>\n",
       "      <td>11.62</td>\n",
       "      <td>NaN</td>\n",
       "      <td>NaN</td>\n",
       "      <td>NaN</td>\n",
       "      <td>NaN</td>\n",
       "      <td>76.29</td>\n",
       "    </tr>\n",
       "    <tr>\n",
       "      <th>2080</th>\n",
       "      <td>BHS</td>\n",
       "      <td>North America</td>\n",
       "      <td>Bahamas</td>\n",
       "      <td>2020-07-01</td>\n",
       "      <td>104.0</td>\n",
       "      <td>0.0</td>\n",
       "      <td>11.0</td>\n",
       "      <td>0.0</td>\n",
       "      <td>264.464</td>\n",
       "      <td>0.0</td>\n",
       "      <td>...</td>\n",
       "      <td>5.200</td>\n",
       "      <td>27717.847</td>\n",
       "      <td>NaN</td>\n",
       "      <td>235.954</td>\n",
       "      <td>13.17</td>\n",
       "      <td>3.1</td>\n",
       "      <td>20.4</td>\n",
       "      <td>NaN</td>\n",
       "      <td>2.9</td>\n",
       "      <td>73.92</td>\n",
       "    </tr>\n",
       "  </tbody>\n",
       "</table>\n",
       "<p>5 rows × 34 columns</p>\n",
       "</div>"
      ],
      "text/plain": [
       "     iso_code      continent             location       date  total_cases  \\\n",
       "613       AND         Europe              Andorra 2020-07-01        855.0   \n",
       "836       AIA  North America             Anguilla 2020-07-01          3.0   \n",
       "952       ATG  North America  Antigua and Barbuda 2020-07-01         66.0   \n",
       "1381      ABW  North America                Aruba 2020-07-01        103.0   \n",
       "2080      BHS  North America              Bahamas 2020-07-01        104.0   \n",
       "\n",
       "      new_cases  total_deaths  new_deaths  total_cases_per_million  \\\n",
       "613         0.0          52.0         0.0                11065.812   \n",
       "836         0.0           0.0         0.0                  199.973   \n",
       "952         0.0           3.0         0.0                  673.965   \n",
       "1381        0.0           3.0         0.0                  964.727   \n",
       "2080        0.0          11.0         0.0                  264.464   \n",
       "\n",
       "      new_cases_per_million  ...  aged_70_older  gdp_per_capita  \\\n",
       "613                     0.0  ...            NaN             NaN   \n",
       "836                     0.0  ...            NaN             NaN   \n",
       "952                     0.0  ...          4.631       21490.943   \n",
       "1381                    0.0  ...          7.452       35973.781   \n",
       "2080                    0.0  ...          5.200       27717.847   \n",
       "\n",
       "      extreme_poverty  cvd_death_rate  diabetes_prevalence  female_smokers  \\\n",
       "613               NaN         109.135                 7.97            29.0   \n",
       "836               NaN             NaN                  NaN             NaN   \n",
       "952               NaN         191.511                13.17             NaN   \n",
       "1381              NaN             NaN                11.62             NaN   \n",
       "2080              NaN         235.954                13.17             3.1   \n",
       "\n",
       "      male_smokers  handwashing_facilities hospital_beds_per_thousand  \\\n",
       "613           37.8                     NaN                        NaN   \n",
       "836            NaN                     NaN                        NaN   \n",
       "952            NaN                     NaN                        3.8   \n",
       "1381           NaN                     NaN                        NaN   \n",
       "2080          20.4                     NaN                        2.9   \n",
       "\n",
       "      life_expectancy  \n",
       "613             83.73  \n",
       "836             81.88  \n",
       "952             77.02  \n",
       "1381            76.29  \n",
       "2080            73.92  \n",
       "\n",
       "[5 rows x 34 columns]"
      ]
     },
     "execution_count": 45,
     "metadata": {},
     "output_type": "execute_result"
    }
   ],
   "source": [
    "# next, i can create a new df containing only rows of countries with zero new cases\n",
    "no_new_cases = countries[countries['new_cases'] == 0]\n",
    "no_new_cases.head()\n"
   ]
  },
  {
   "cell_type": "code",
   "execution_count": 46,
   "id": "459dfbb6-c699-4570-824d-f04de9cb9011",
   "metadata": {},
   "outputs": [
    {
     "data": {
      "text/plain": [
       "'Cameroon'"
      ]
     },
     "execution_count": 46,
     "metadata": {},
     "output_type": "execute_result"
    }
   ],
   "source": [
    "# then, the country with the highest number of total cases, but with no new cases, can be identified\n",
    "highest_no_new = no_new_cases.loc[no_new_cases['total_cases'] == no_new_cases['total_cases'].max()]['location'].item()\n",
    "highest_no_new"
   ]
  },
  {
   "cell_type": "code",
   "execution_count": 54,
   "id": "8885c46b-0a1a-47e7-923b-a6466ac196e5",
   "metadata": {},
   "outputs": [
    {
     "data": {
      "text/plain": [
       "192"
      ]
     },
     "execution_count": 54,
     "metadata": {},
     "output_type": "execute_result"
    }
   ],
   "source": [
    "# from the countries df, I can find the sum of the populations of all countries which have had zero total deaths, in millions\n",
    "sum_populations_no_deaths = (round((countries[countries['total_deaths']==0]['population'].sum())/1000000))\n",
    "sum_populations_no_deaths"
   ]
  },
  {
   "cell_type": "code",
   "execution_count": 56,
   "id": "526ed849-ffaf-4fed-8910-bdd82839a1db",
   "metadata": {},
   "outputs": [],
   "source": [
    "# a function can be created, taking a dataframe, a location and a metric, and returns the location and the metric's value for that location\n",
    "def country_metric(df, location, metric):\n",
    "    \n",
    "    return df[df['location'] == location].iloc[0][metric]"
   ]
  },
  {
   "cell_type": "code",
   "execution_count": 57,
   "id": "021cca58-b4ad-4478-bd18-796b1fb57086",
   "metadata": {},
   "outputs": [
    {
     "data": {
      "text/plain": [
       "4.718"
      ]
     },
     "execution_count": 57,
     "metadata": {},
     "output_type": "execute_result"
    }
   ],
   "source": [
    "vietnam_older_70 = country_metric(countries, 'Vietnam', 'aged_70_older')\n",
    "vietnam_older_70"
   ]
  },
  {
   "cell_type": "code",
   "execution_count": 58,
   "id": "002c79ea-4dba-4149-b684-73da69b9ce20",
   "metadata": {},
   "outputs": [],
   "source": [
    "# another function, that returns the mean of a metric for a group of countries\n",
    "def countries_average(df, countries, metric):\n",
    "\n",
    "    df_countries = df['location'].isin(countries)\n",
    "   \n",
    "    \n",
    "    meany = df[df_countries][metric].mean()\n",
    "        \n",
    "    return meany"
   ]
  },
  {
   "cell_type": "code",
   "execution_count": 59,
   "id": "13af9122-68ca-4194-b0a2-b384771de498",
   "metadata": {},
   "outputs": [
    {
     "data": {
      "text/plain": [
       "82.10571428571428"
      ]
     },
     "execution_count": 59,
     "metadata": {},
     "output_type": "execute_result"
    }
   ],
   "source": [
    "# using a group of countries, the G7, the function can be applied\n",
    "g7 = ['United States', 'Italy', 'Canada', 'Japan', 'United Kingdom', 'Germany', 'France']\n",
    "g7_avg_life_expectancy = countries_average(df, g7, 'life_expectancy')\n",
    "g7_avg_life_expectancy\n"
   ]
  },
  {
   "cell_type": "code",
   "execution_count": 61,
   "id": "89c304bd-8bf1-42ea-94a3-cfd3bbe58007",
   "metadata": {},
   "outputs": [
    {
     "name": "stdout",
     "output_type": "stream",
     "text": [
      "Central African Republic has a life expectancy of 28.8 years lower than the G7 average.\n"
     ]
    }
   ],
   "source": [
    "# the country with the lowest life expectacy can be identified and compared against the G7 average\n",
    "lowest = countries[countries['life_expectancy'] == countries['life_expectancy'].min()].iloc[0]\n",
    "country = lowest['location']\n",
    "life_exp = lowest['life_expectancy']\n",
    "diff = g7_avg_life_expectancy - life_exp\n",
    "headline = f'{country} has a life expectancy of {round(diff,1)} years lower than the G7 average.'\n",
    "print(headline)"
   ]
  },
  {
   "cell_type": "code",
   "execution_count": null,
   "id": "7b80a5e8-fc28-4e8f-b18d-6bfb5db01f39",
   "metadata": {},
   "outputs": [],
   "source": []
  }
 ],
 "metadata": {
  "kernelspec": {
   "display_name": "Python 3 (ipykernel)",
   "language": "python",
   "name": "python3"
  },
  "language_info": {
   "codemirror_mode": {
    "name": "ipython",
    "version": 3
   },
   "file_extension": ".py",
   "mimetype": "text/x-python",
   "name": "python",
   "nbconvert_exporter": "python",
   "pygments_lexer": "ipython3",
   "version": "3.12.1"
  }
 },
 "nbformat": 4,
 "nbformat_minor": 5
}
